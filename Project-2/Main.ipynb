{
 "cells": [
  {
   "cell_type": "code",
   "execution_count": 1,
   "id": "b14c804c",
   "metadata": {},
   "outputs": [],
   "source": [
    "import time\n",
    "import numpy as np\n",
    "from src.data_loader import load_data\n",
    "from src.feature_engineering import average_daily\n",
    "from src.model.train_model import get_X_y, train_and_evaluate_models, get_best_fold_data_from_kf\n",
    "import os\n",
    "from objective_function import objective_et, objective_lasso\n",
    "from src.Optimiser.KOA.koa_optimizer import koa_optimizer\n",
    "from src.Optimiser.COA.coa_optimizer import coa_optimizer\n",
    "from sklearn.linear_model import Lasso\n",
    "from sklearn.model_selection import KFold\n",
    "from sklearn.metrics import mean_absolute_error\n",
    "import matplotlib.pyplot as plt\n",
    "from analysis.wilcoxon_test import perform_wilcoxon_test\n",
    "\n",
    "DATA_PATH = os.path.join(\"data\", \"Data.xlsx\")\n"
   ]
  },
  {
   "cell_type": "code",
   "execution_count": 2,
   "id": "67e4d5fd",
   "metadata": {},
   "outputs": [
    {
     "name": "stdout",
     "output_type": "stream",
     "text": [
      "🔹 Loading raw data...\n",
      "✅ Raw data shape: (50000, 12)\n"
     ]
    }
   ],
   "source": [
    "print(\"🔹 Loading raw data...\")\n",
    "df = load_data(DATA_PATH)\n",
    "print(f\"✅ Raw data shape: {df.shape}\")"
   ]
  },
  {
   "cell_type": "code",
   "execution_count": 3,
   "id": "f4289885",
   "metadata": {},
   "outputs": [
    {
     "name": "stdout",
     "output_type": "stream",
     "text": [
      "🔹 Aggregating daily averages (96 samples per day)...\n",
      "✅ Aggregated data shape: (520, 12)\n",
      "✅ Sample preview:\n",
      "   Voltage (V)  Current (A)  Power Consumption (kW)  Temperature (Â°C)  \\\n",
      "0   229.442065    23.274581                5.338170          24.458245   \n",
      "1   230.252406    27.590016                6.355897          25.281132   \n",
      "2   230.139098    26.616651                6.113400          25.286834   \n",
      "3   230.450687    28.109668                6.483036          26.025139   \n",
      "4   230.131332    26.532084                6.102769          24.729869   \n",
      "\n",
      "   Humidity (%)  Reactive Power (kVAR)  Power Factor  Solar Power (kW)  \\\n",
      "0     49.931362               1.335934      0.904576         24.128362   \n",
      "1     47.592609               1.547024      0.902831         25.205873   \n",
      "2     46.656764               1.560915      0.898813         22.725012   \n",
      "3     51.258872               1.580661      0.905492         24.628754   \n",
      "4     49.909403               1.526028      0.902028         23.925562   \n",
      "\n",
      "   Wind Power (kW)  Voltage Fluctuation (%)  Electricity Price (USD/kWh)  \\\n",
      "0        15.614870                -0.005502                     0.307196   \n",
      "1        13.585932                -0.336757                     0.300984   \n",
      "2        14.149719                -0.027104                     0.296841   \n",
      "3        16.369280                -0.227224                     0.319243   \n",
      "4        15.262580                -0.161923                     0.296363   \n",
      "\n",
      "   Predicted Load (kW)  \n",
      "0             5.341409  \n",
      "1             6.339775  \n",
      "2             6.096116  \n",
      "3             6.495922  \n",
      "4             6.122499  \n"
     ]
    }
   ],
   "source": [
    "print(\"🔹 Aggregating daily averages (96 samples per day)...\")\n",
    "df_avg = average_daily(df, samples_per_day=96)\n",
    "print(f\"✅ Aggregated data shape: {df_avg.shape}\")\n",
    "print(\"✅ Sample preview:\")\n",
    "print(df_avg.head())"
   ]
  },
  {
   "cell_type": "code",
   "execution_count": 4,
   "id": "6f9067f9",
   "metadata": {},
   "outputs": [
    {
     "name": "stdout",
     "output_type": "stream",
     "text": [
      "🔹 Preparing features and target...\n",
      "✅ X shape: (520, 11), y shape: (520,)\n"
     ]
    }
   ],
   "source": [
    "print(\"🔹 Preparing features and target...\")\n",
    "X, y = get_X_y(df_avg)\n",
    "print(f\"✅ X shape: {X.shape}, y shape: {y.shape}\")\n"
   ]
  },
  {
   "cell_type": "code",
   "execution_count": 5,
   "id": "3a306752",
   "metadata": {},
   "outputs": [
    {
     "name": "stdout",
     "output_type": "stream",
     "text": [
      "🔹 Performing K-Fold...\n",
      "\n",
      "🔁 Fold 1 ------------------\n",
      "  ETR → R2: 0.9690, RMSE: 0.0031, MAE: 0.0409, MAPE: 0.65%, MARD: 0.33%\n",
      "  Lasso → R2: 0.9251, RMSE: 0.0075, MAE: 0.0676, MAPE: 1.08%, MARD: 0.54%\n",
      "\n",
      "🔁 Fold 2 ------------------\n",
      "  ETR → R2: 0.9749, RMSE: 0.0021, MAE: 0.0353, MAPE: 0.56%, MARD: 0.28%\n",
      "  Lasso → R2: 0.9306, RMSE: 0.0059, MAE: 0.0589, MAPE: 0.93%, MARD: 0.46%\n",
      "\n",
      "🔁 Fold 3 ------------------\n",
      "  ETR → R2: 0.9646, RMSE: 0.0036, MAE: 0.0421, MAPE: 0.66%, MARD: 0.33%\n",
      "  Lasso → R2: 0.9249, RMSE: 0.0076, MAE: 0.0677, MAPE: 1.07%, MARD: 0.54%\n",
      "\n",
      "🔁 Fold 4 ------------------\n",
      "  ETR → R2: 0.9667, RMSE: 0.0037, MAE: 0.0500, MAPE: 0.81%, MARD: 0.40%\n",
      "  Lasso → R2: 0.9174, RMSE: 0.0093, MAE: 0.0795, MAPE: 1.28%, MARD: 0.64%\n",
      "\n",
      "🔁 Fold 5 ------------------\n",
      "  ETR → R2: 0.9725, RMSE: 0.0024, MAE: 0.0386, MAPE: 0.61%, MARD: 0.30%\n",
      "  Lasso → R2: 0.9305, RMSE: 0.0060, MAE: 0.0620, MAPE: 0.98%, MARD: 0.49%\n",
      "ETR and Lasso folds are identical. Using shared variables.\n",
      "✅ Combined DataFrame using original target column name:\n",
      "   Voltage (V)  Current (A)  Power Consumption (kW)  Temperature (Â°C)  \\\n",
      "0   229.442065    23.274581                5.338170          24.458245   \n",
      "1   230.252406    27.590016                6.355897          25.281132   \n",
      "2   230.139098    26.616651                6.113400          25.286834   \n",
      "3   230.450687    28.109668                6.483036          26.025139   \n",
      "4   230.131332    26.532084                6.102769          24.729869   \n",
      "\n",
      "   Humidity (%)  Reactive Power (kVAR)  Power Factor  Solar Power (kW)  \\\n",
      "0     49.931362               1.335934      0.904576         24.128362   \n",
      "1     47.592609               1.547024      0.902831         25.205873   \n",
      "2     46.656764               1.560915      0.898813         22.725012   \n",
      "3     51.258872               1.580661      0.905492         24.628754   \n",
      "4     49.909403               1.526028      0.902028         23.925562   \n",
      "\n",
      "   Wind Power (kW)  Voltage Fluctuation (%)  Electricity Price (USD/kWh)  \\\n",
      "0        15.614870                -0.005502                     0.307196   \n",
      "1        13.585932                -0.336757                     0.300984   \n",
      "2        14.149719                -0.027104                     0.296841   \n",
      "3        16.369280                -0.227224                     0.319243   \n",
      "4        15.262580                -0.161923                     0.296363   \n",
      "\n",
      "   Predicted Load (kW)  \n",
      "0             5.341409  \n",
      "1             6.339775  \n",
      "2             6.096116  \n",
      "3             6.495922  \n",
      "4             6.122499  \n"
     ]
    }
   ],
   "source": [
    "from src.Utils.K_Fold import K_Fold\n",
    "\n",
    "\n",
    "print(\"🔹 Performing K-Fold...\")\n",
    "(\n",
    "    X_train,\n",
    "    X_test,\n",
    "    y_train,\n",
    "    y_test,\n",
    "    etr_scores,\n",
    "    lasso_scores,\n",
    "    combined_df,\n",
    ") = K_Fold(X, y, n_splits=5)"
   ]
  },
  {
   "cell_type": "markdown",
   "id": "8f5d674a",
   "metadata": {},
   "source": [
    "# add to excel file "
   ]
  },
  {
   "cell_type": "code",
   "execution_count": 6,
   "id": "5294a5df",
   "metadata": {},
   "outputs": [],
   "source": [
    "# import pandas as pd\n",
    "# from openpyxl import load_workbook\n",
    "\n",
    "# # Load workbook\n",
    "# book = load_workbook(DATA_PATH)\n",
    "\n",
    "# # If the sheet exists, delete it\n",
    "# if 'DATA after K-Fold' in book.sheetnames:\n",
    "#     std = book['DATA after K-Fold']\n",
    "#     book.remove(std)\n",
    "#     book.save(DATA_PATH)\n",
    "\n",
    "# # Now write the new data\n",
    "# with pd.ExcelWriter(DATA_PATH, engine='openpyxl', mode='a') as writer:\n",
    "#     combined_df.to_excel(writer, sheet_name='DATA after K-Fold', index=False)\n"
   ]
  },
  {
   "cell_type": "code",
   "execution_count": 7,
   "id": "aa530a7a",
   "metadata": {},
   "outputs": [
    {
     "name": "stdout",
     "output_type": "stream",
     "text": [
      "\n",
      "🔹 Average Baseline Model Scores:\n",
      "🔹 Extra Trees Regressor:\n",
      "  R2: 0.9695\n",
      "  RMSE: 0.0030\n",
      "  MAE: 0.0414\n",
      "  MAPE: 0.6588\n",
      "  MARD: 0.3290\n",
      "\n",
      "🔹 Lasso Regression:\n",
      "  R2: 0.9257\n",
      "  RMSE: 0.0073\n",
      "  MAE: 0.0672\n",
      "  MAPE: 1.0667\n",
      "  MARD: 0.5327\n"
     ]
    }
   ],
   "source": [
    "def summarize_metrics(metrics_list):\n",
    "  return {key: np.mean([m[key] for m in metrics_list]) for key in metrics_list[0]}\n",
    "\n",
    "avg_etr = summarize_metrics(etr_scores)\n",
    "avg_lasso = summarize_metrics(lasso_scores)\n",
    "\n",
    "print(\"\\n🔹 Average Baseline Model Scores:\")\n",
    "print(\"🔹 Extra Trees Regressor:\")\n",
    "for k, v in avg_etr.items():\n",
    "  print(f\"  {k}: {v:.4f}\")\n",
    "\n",
    "print(\"\\n🔹 Lasso Regression:\")\n",
    "for k, v in avg_lasso.items():\n",
    "  print(f\"  {k}: {v:.4f}\")\n"
   ]
  },
  {
   "cell_type": "markdown",
   "id": "4d951fa7",
   "metadata": {},
   "source": [
    "# Define the parameter bounds for the optimizers\n"
   ]
  },
  {
   "cell_type": "code",
   "execution_count": 8,
   "id": "9c0e0910",
   "metadata": {},
   "outputs": [],
   "source": [
    "\n",
    "#Extra Trees Regressor\n",
    "lb_et = [10, 1, 2, 1]          # n_estimators, max_depth, min_samples_split, min_samples_leaf\n",
    "ub_et = [200, 50, 10, 10]\n",
    "dim_et = 4\n",
    "\n",
    "# Lasso Regression\n",
    "lb_lasso = [0.1, 100]       # alpha, max_iter\n",
    "ub_lasso = [0.3, 1000]\n",
    "dim_lasso = 2\n",
    "\n",
    "n_agents = 3\n",
    "max_iter = 5"
   ]
  },
  {
   "cell_type": "markdown",
   "id": "ff2f0d4a",
   "metadata": {},
   "source": [
    "# @@@@@@@@@@@@@@@@@@@@@@@@@@@@@@@@@@@@@@@@@@@@@@@@@@@@@@@@@@@@@@@@@@@@@@@@@@@@@@@@@@@@@@@@@@@@@@@@@@@@@@@@@@"
   ]
  },
  {
   "cell_type": "code",
   "execution_count": 9,
   "id": "69383b85",
   "metadata": {},
   "outputs": [],
   "source": [
    "X, y = get_X_y(combined_df)"
   ]
  },
  {
   "cell_type": "code",
   "execution_count": 10,
   "id": "5561562d",
   "metadata": {},
   "outputs": [
    {
     "name": "stdout",
     "output_type": "stream",
     "text": [
      "🔹 Extra Trees MAE: 0.03523802916026711\n",
      "🔹 Lasso Regression MAE: 0.05407689392706924\n",
      "🔧 Best Params (ETR): {'random_state': 42, 'n_estimators': 99, 'max_depth': 3, 'min_samples_split': 5}\n",
      "🔧 Best Params (LR): {'random_state': 42, 'alpha': 0.1, 'max_iter': 1000, 'tol': 0.01}\n"
     ]
    }
   ],
   "source": [
    "from src.model.train_model import train_raw_model\n",
    "\n",
    "etr_result = train_raw_model(\"ETR\", X_train, y_train, X_test, y_test)\n",
    "lr_result = train_raw_model(\"LR\", X_train, y_train, X_test, y_test)\n",
    "\n",
    "# Access results\n",
    "print(\"🔹 Extra Trees MAE:\", etr_result[\"mae\"])\n",
    "print(\"🔹 Lasso Regression MAE:\", lr_result[\"mae\"])\n",
    "print(\"🔧 Best Params (ETR):\", etr_result[\"params\"])\n",
    "print(\"🔧 Best Params (LR):\", lr_result[\"params\"])\n",
    "\n"
   ]
  },
  {
   "cell_type": "code",
   "execution_count": 11,
   "id": "6143e563",
   "metadata": {},
   "outputs": [],
   "source": [
    "from src.Optimiser.KOA.koa_optimizer import koa_optimizer "
   ]
  },
  {
   "cell_type": "code",
   "execution_count": 12,
   "id": "5331f870",
   "metadata": {},
   "outputs": [],
   "source": [
    "from objective_function import objective_et, objective_lasso"
   ]
  },
  {
   "cell_type": "code",
   "execution_count": 13,
   "id": "977be3de",
   "metadata": {},
   "outputs": [
    {
     "name": "stdout",
     "output_type": "stream",
     "text": [
      "🔁 Iter 1/5 - Best MAE: 0.01821\n",
      "🔁 Iter 2/5 - Best MAE: 0.01821\n",
      "🔁 Iter 3/5 - Best MAE: 0.01821\n",
      "🔁 Iter 4/5 - Best MAE: 0.01821\n",
      "🔁 Iter 5/5 - Best MAE: 0.01821\n"
     ]
    }
   ],
   "source": [
    "best_pos_et, best_fit_et = koa_optimizer(\n",
    "    objective_et, lb_et, ub_et, dim_et, n_agents, max_iter, X_train, y_train, X_test, y_test\n",
    ")"
   ]
  },
  {
   "cell_type": "code",
   "execution_count": 14,
   "id": "3983ceec",
   "metadata": {},
   "outputs": [
    {
     "name": "stdout",
     "output_type": "stream",
     "text": [
      "🔁 Iter 1/5 - Best MAE: 0.05859\n",
      "🔁 Iter 2/5 - Best MAE: 0.05859\n",
      "🔁 Iter 3/5 - Best MAE: 0.05859\n",
      "🔁 Iter 4/5 - Best MAE: 0.05859\n",
      "🔁 Iter 5/5 - Best MAE: 0.05859\n"
     ]
    }
   ],
   "source": [
    "\n",
    "best_pos_lasso, best_fit_lasso = koa_optimizer(\n",
    "    objective_lasso, lb_lasso, ub_lasso, dim_lasso, n_agents, max_iter, X_train, y_train, X_test, y_test\n",
    ")"
   ]
  },
  {
   "cell_type": "code",
   "execution_count": 15,
   "id": "86fd4b64",
   "metadata": {},
   "outputs": [],
   "source": [
    "# coa_optimizer\n",
    "from src.Optimiser.COA.coa_optimizer import coa_optimizer"
   ]
  },
  {
   "cell_type": "code",
   "execution_count": 16,
   "id": "e78187da",
   "metadata": {},
   "outputs": [
    {
     "name": "stdout",
     "output_type": "stream",
     "text": [
      "🦞 Iter 1/20 - Best MAE: 0.01847\n",
      "🦞 Iter 2/20 - Best MAE: 0.01813\n",
      "🦞 Iter 3/20 - Best MAE: 0.01813\n",
      "🦞 Iter 4/20 - Best MAE: 0.01813\n",
      "🦞 Iter 5/20 - Best MAE: 0.01813\n",
      "🦞 Iter 6/20 - Best MAE: 0.01813\n",
      "🦞 Iter 7/20 - Best MAE: 0.01813\n",
      "🦞 Iter 8/20 - Best MAE: 0.01813\n",
      "🦞 Iter 9/20 - Best MAE: 0.01813\n",
      "🦞 Iter 10/20 - Best MAE: 0.01813\n",
      "🦞 Iter 11/20 - Best MAE: 0.01810\n",
      "🦞 Iter 12/20 - Best MAE: 0.01810\n",
      "🦞 Iter 13/20 - Best MAE: 0.01810\n",
      "🦞 Iter 14/20 - Best MAE: 0.01810\n",
      "🦞 Iter 15/20 - Best MAE: 0.01810\n",
      "🦞 Iter 16/20 - Best MAE: 0.01810\n",
      "🦞 Iter 17/20 - Best MAE: 0.01810\n",
      "🦞 Iter 18/20 - Best MAE: 0.01810\n",
      "🦞 Iter 19/20 - Best MAE: 0.01810\n",
      "🦞 Iter 20/20 - Best MAE: 0.01810\n"
     ]
    }
   ],
   "source": [
    "\n",
    "#Extra Trees Regressor\n",
    "lb_et = [2, 2, 10, 4]\n",
    "ub_et = [200, 100, 100, 10]  # or whatever int upper limit you want     \n",
    "dim_et = 4\n",
    "\n",
    "\n",
    "n_agents = 10\n",
    "max_iter = 20\n",
    "\n",
    "best_pos_et, best_fit_et = coa_optimizer(\n",
    "    objective_et, lb_et, ub_et, dim_et, n_agents, max_iter, X_train, y_train, X_test, y_test\n",
    ")\n"
   ]
  },
  {
   "cell_type": "code",
   "execution_count": 25,
   "id": "a4429a19",
   "metadata": {},
   "outputs": [
    {
     "name": "stdout",
     "output_type": "stream",
     "text": [
      "🦞 Iter 1/20 - Best MAE: 0.05408\n",
      "🦞 Iter 2/20 - Best MAE: 0.05408\n",
      "🦞 Iter 3/20 - Best MAE: 0.05408\n",
      "🦞 Iter 4/20 - Best MAE: 0.05408\n",
      "🦞 Iter 5/20 - Best MAE: 0.05408\n",
      "🦞 Iter 6/20 - Best MAE: 0.05408\n",
      "🦞 Iter 7/20 - Best MAE: 0.05408\n",
      "🦞 Iter 8/20 - Best MAE: 0.05408\n",
      "🦞 Iter 9/20 - Best MAE: 0.05408\n",
      "🦞 Iter 10/20 - Best MAE: 0.05408\n",
      "🦞 Iter 11/20 - Best MAE: 0.05408\n",
      "🦞 Iter 12/20 - Best MAE: 0.05408\n",
      "🦞 Iter 13/20 - Best MAE: 0.05408\n",
      "🦞 Iter 14/20 - Best MAE: 0.05408\n",
      "🦞 Iter 15/20 - Best MAE: 0.05408\n",
      "🦞 Iter 16/20 - Best MAE: 0.05408\n",
      "🦞 Iter 17/20 - Best MAE: 0.05408\n",
      "🦞 Iter 18/20 - Best MAE: 0.05408\n",
      "🦞 Iter 19/20 - Best MAE: 0.05408\n",
      "🦞 Iter 20/20 - Best MAE: 0.05408\n"
     ]
    }
   ],
   "source": [
    "# Lasso Regression\n",
    "lb_lasso = [0.1, 1000]       # alpha, max_iter\n",
    "ub_lasso = [1, 2000]\n",
    "dim_lasso = 2\n",
    "n_agents = 100\n",
    "max_iter = 20\n",
    "\n",
    "best_pos_lasso, best_fit_lasso = coa_optimizer(\n",
    "    objective_lasso, lb_lasso, ub_lasso, dim_lasso, n_agents, max_iter, X_train, y_train, X_test, y_test\n",
    ")"
   ]
  }
 ],
 "metadata": {
  "kernelspec": {
   "display_name": "Python 3",
   "language": "python",
   "name": "python3"
  },
  "language_info": {
   "codemirror_mode": {
    "name": "ipython",
    "version": 3
   },
   "file_extension": ".py",
   "mimetype": "text/x-python",
   "name": "python",
   "nbconvert_exporter": "python",
   "pygments_lexer": "ipython3",
   "version": "3.12.8"
  }
 },
 "nbformat": 4,
 "nbformat_minor": 5
}
