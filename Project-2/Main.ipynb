{
 "cells": [
  {
   "cell_type": "code",
   "execution_count": 17,
   "id": "b14c804c",
   "metadata": {},
   "outputs": [],
   "source": [
    "import time\n",
    "import numpy as np\n",
    "from src.data_loader import load_data\n",
    "from src.feature_engineering import average_daily\n",
    "from src.model.train_model import get_X_y, train_and_evaluate_models, get_best_fold_data_from_kf\n",
    "import os\n",
    "from objective_function import objective_et, objective_lasso\n",
    "from src.Optimiser.KOA.koa_optimizer import koa_optimizer\n",
    "from src.Optimiser.COA.coa_optimizer import coa_optimizer\n",
    "from sklearn.linear_model import Lasso\n",
    "from sklearn.model_selection import KFold\n",
    "from sklearn.metrics import mean_absolute_error\n",
    "import matplotlib.pyplot as plt\n",
    "from analysis.wilcoxon_test import perform_wilcoxon_test\n",
    "\n",
    "DATA_PATH = os.path.join(\"data\", \"Data.xlsx\")\n"
   ]
  },
  {
   "cell_type": "code",
   "execution_count": 12,
   "id": "67e4d5fd",
   "metadata": {},
   "outputs": [
    {
     "name": "stdout",
     "output_type": "stream",
     "text": [
      "🔹 Loading raw data...\n",
      "✅ Raw data shape: (50000, 12)\n"
     ]
    }
   ],
   "source": [
    "print(\"🔹 Loading raw data...\")\n",
    "df = load_data(DATA_PATH)\n",
    "print(f\"✅ Raw data shape: {df.shape}\")"
   ]
  },
  {
   "cell_type": "code",
   "execution_count": 13,
   "id": "f4289885",
   "metadata": {},
   "outputs": [
    {
     "name": "stdout",
     "output_type": "stream",
     "text": [
      "🔹 Aggregating daily averages (96 samples per day)...\n",
      "✅ Aggregated data shape: (520, 12)\n",
      "✅ Sample preview:\n",
      "   Voltage (V)  Current (A)  Power Consumption (kW)  Temperature (Â°C)  \\\n",
      "0   229.442065    23.274581                5.338170          24.458245   \n",
      "1   230.252406    27.590016                6.355897          25.281132   \n",
      "2   230.139098    26.616651                6.113400          25.286834   \n",
      "3   230.450687    28.109668                6.483036          26.025139   \n",
      "4   230.131332    26.532084                6.102769          24.729869   \n",
      "\n",
      "   Humidity (%)  Reactive Power (kVAR)  Power Factor  Solar Power (kW)  \\\n",
      "0     49.931362               1.335934      0.904576         24.128362   \n",
      "1     47.592609               1.547024      0.902831         25.205873   \n",
      "2     46.656764               1.560915      0.898813         22.725012   \n",
      "3     51.258872               1.580661      0.905492         24.628754   \n",
      "4     49.909403               1.526028      0.902028         23.925562   \n",
      "\n",
      "   Wind Power (kW)  Voltage Fluctuation (%)  Electricity Price (USD/kWh)  \\\n",
      "0        15.614870                -0.005502                     0.307196   \n",
      "1        13.585932                -0.336757                     0.300984   \n",
      "2        14.149719                -0.027104                     0.296841   \n",
      "3        16.369280                -0.227224                     0.319243   \n",
      "4        15.262580                -0.161923                     0.296363   \n",
      "\n",
      "   Predicted Load (kW)  \n",
      "0             5.341409  \n",
      "1             6.339775  \n",
      "2             6.096116  \n",
      "3             6.495922  \n",
      "4             6.122499  \n"
     ]
    }
   ],
   "source": [
    "print(\"🔹 Aggregating daily averages (96 samples per day)...\")\n",
    "df_avg = average_daily(df, samples_per_day=96)\n",
    "print(f\"✅ Aggregated data shape: {df_avg.shape}\")\n",
    "print(\"✅ Sample preview:\")\n",
    "print(df_avg.head())"
   ]
  },
  {
   "cell_type": "code",
   "execution_count": 14,
   "id": "6f9067f9",
   "metadata": {},
   "outputs": [
    {
     "name": "stdout",
     "output_type": "stream",
     "text": [
      "🔹 Preparing features and target...\n",
      "✅ X shape: (520, 11), y shape: (520,)\n"
     ]
    }
   ],
   "source": [
    "print(\"🔹 Preparing features and target...\")\n",
    "X, y = get_X_y(df_avg)\n",
    "print(f\"✅ X shape: {X.shape}, y shape: {y.shape}\")\n"
   ]
  },
  {
   "cell_type": "code",
   "execution_count": 22,
   "id": "3a306752",
   "metadata": {},
   "outputs": [
    {
     "name": "stdout",
     "output_type": "stream",
     "text": [
      "🔹 Performing K-Fold...\n"
     ]
    },
    {
     "ename": "ValueError",
     "evalue": "Setting a random_state has no effect since shuffle is False. You should leave random_state to its default (None), or set shuffle=True.",
     "output_type": "error",
     "traceback": [
      "\u001b[1;31m---------------------------------------------------------------------------\u001b[0m",
      "\u001b[1;31mValueError\u001b[0m                                Traceback (most recent call last)",
      "Cell \u001b[1;32mIn[22], line 5\u001b[0m\n\u001b[0;32m      1\u001b[0m \u001b[38;5;28;01mfrom\u001b[39;00m\u001b[38;5;250m \u001b[39m\u001b[38;5;21;01msrc\u001b[39;00m\u001b[38;5;21;01m.\u001b[39;00m\u001b[38;5;21;01mUtils\u001b[39;00m\u001b[38;5;21;01m.\u001b[39;00m\u001b[38;5;21;01mK_Fold\u001b[39;00m\u001b[38;5;250m \u001b[39m\u001b[38;5;28;01mimport\u001b[39;00m K_Fold\n\u001b[0;32m      4\u001b[0m \u001b[38;5;28mprint\u001b[39m(\u001b[38;5;124m\"\u001b[39m\u001b[38;5;124m🔹 Performing K-Fold...\u001b[39m\u001b[38;5;124m\"\u001b[39m)\n\u001b[1;32m----> 5\u001b[0m X_train_shared, X_test_shared, y_train_shared, y_test_shared, combined_df \u001b[38;5;241m=\u001b[39m \u001b[43mK_Fold\u001b[49m\u001b[43m(\u001b[49m\u001b[43mX\u001b[49m\u001b[43m,\u001b[49m\u001b[43m \u001b[49m\u001b[43my\u001b[49m\u001b[43m,\u001b[49m\u001b[43m \u001b[49m\u001b[43mn_splits\u001b[49m\u001b[38;5;241;43m=\u001b[39;49m\u001b[38;5;241;43m5\u001b[39;49m\u001b[43m)\u001b[49m\n",
      "File \u001b[1;32md:\\ML\\Project-2\\src\\Utils\\K_Fold.py:7\u001b[0m, in \u001b[0;36mK_Fold\u001b[1;34m(X, y, n_splits)\u001b[0m\n\u001b[0;32m      6\u001b[0m \u001b[38;5;28;01mdef\u001b[39;00m\u001b[38;5;250m \u001b[39m\u001b[38;5;21mK_Fold\u001b[39m(X, y, n_splits\u001b[38;5;241m=\u001b[39m\u001b[38;5;241m5\u001b[39m):\n\u001b[1;32m----> 7\u001b[0m     etr_scores, lasso_scores ,kf\u001b[38;5;241m=\u001b[39m \u001b[43mtrain_and_evaluate_models\u001b[49m\u001b[43m(\u001b[49m\u001b[43mX\u001b[49m\u001b[43m,\u001b[49m\u001b[43m \u001b[49m\u001b[43my\u001b[49m\u001b[43m,\u001b[49m\u001b[43m \u001b[49m\u001b[43mn_splits\u001b[49m\u001b[38;5;241;43m=\u001b[39;49m\u001b[43mn_splits\u001b[49m\u001b[43m)\u001b[49m\n\u001b[0;32m      8\u001b[0m     \u001b[38;5;66;03m# get_best_fold_data_from_kf for each model\u001b[39;00m\n\u001b[0;32m      9\u001b[0m     etr_X_train_best, etr_X_test_best, etr_y_train_best, etr_y_test_best \u001b[38;5;241m=\u001b[39m get_best_fold_data_from_kf(X, y, etr_scores, kf)\n",
      "File \u001b[1;32md:\\ML\\Project-2\\src\\model\\train_model.py:16\u001b[0m, in \u001b[0;36mtrain_and_evaluate_models\u001b[1;34m(X, y, n_splits)\u001b[0m\n\u001b[0;32m     15\u001b[0m \u001b[38;5;28;01mdef\u001b[39;00m\u001b[38;5;250m \u001b[39m\u001b[38;5;21mtrain_and_evaluate_models\u001b[39m(X, y, n_splits\u001b[38;5;241m=\u001b[39m\u001b[38;5;241m5\u001b[39m):\n\u001b[1;32m---> 16\u001b[0m     kf \u001b[38;5;241m=\u001b[39m \u001b[43mKFold\u001b[49m\u001b[43m(\u001b[49m\u001b[43mn_splits\u001b[49m\u001b[38;5;241;43m=\u001b[39;49m\u001b[43mn_splits\u001b[49m\u001b[43m,\u001b[49m\u001b[43m \u001b[49m\u001b[43mshuffle\u001b[49m\u001b[38;5;241;43m=\u001b[39;49m\u001b[38;5;28;43;01mFalse\u001b[39;49;00m\u001b[43m,\u001b[49m\u001b[43m \u001b[49m\u001b[43mrandom_state\u001b[49m\u001b[38;5;241;43m=\u001b[39;49m\u001b[38;5;241;43m42\u001b[39;49m\u001b[43m)\u001b[49m\n\u001b[0;32m     17\u001b[0m     etr_scores \u001b[38;5;241m=\u001b[39m []\n\u001b[0;32m     18\u001b[0m     lasso_scores \u001b[38;5;241m=\u001b[39m []\n",
      "File \u001b[1;32md:\\Python\\Lib\\site-packages\\sklearn\\model_selection\\_split.py:514\u001b[0m, in \u001b[0;36mKFold.__init__\u001b[1;34m(self, n_splits, shuffle, random_state)\u001b[0m\n\u001b[0;32m    513\u001b[0m \u001b[38;5;28;01mdef\u001b[39;00m\u001b[38;5;250m \u001b[39m\u001b[38;5;21m__init__\u001b[39m(\u001b[38;5;28mself\u001b[39m, n_splits\u001b[38;5;241m=\u001b[39m\u001b[38;5;241m5\u001b[39m, \u001b[38;5;241m*\u001b[39m, shuffle\u001b[38;5;241m=\u001b[39m\u001b[38;5;28;01mFalse\u001b[39;00m, random_state\u001b[38;5;241m=\u001b[39m\u001b[38;5;28;01mNone\u001b[39;00m):\n\u001b[1;32m--> 514\u001b[0m     \u001b[38;5;28;43msuper\u001b[39;49m\u001b[43m(\u001b[49m\u001b[43m)\u001b[49m\u001b[38;5;241;43m.\u001b[39;49m\u001b[38;5;21;43m__init__\u001b[39;49m\u001b[43m(\u001b[49m\u001b[43mn_splits\u001b[49m\u001b[38;5;241;43m=\u001b[39;49m\u001b[43mn_splits\u001b[49m\u001b[43m,\u001b[49m\u001b[43m \u001b[49m\u001b[43mshuffle\u001b[49m\u001b[38;5;241;43m=\u001b[39;49m\u001b[43mshuffle\u001b[49m\u001b[43m,\u001b[49m\u001b[43m \u001b[49m\u001b[43mrandom_state\u001b[49m\u001b[38;5;241;43m=\u001b[39;49m\u001b[43mrandom_state\u001b[49m\u001b[43m)\u001b[49m\n",
      "File \u001b[1;32md:\\Python\\Lib\\site-packages\\sklearn\\model_selection\\_split.py:365\u001b[0m, in \u001b[0;36m_BaseKFold.__init__\u001b[1;34m(self, n_splits, shuffle, random_state)\u001b[0m\n\u001b[0;32m    362\u001b[0m     \u001b[38;5;28;01mraise\u001b[39;00m \u001b[38;5;167;01mTypeError\u001b[39;00m(\u001b[38;5;124m\"\u001b[39m\u001b[38;5;124mshuffle must be True or False; got \u001b[39m\u001b[38;5;132;01m{0}\u001b[39;00m\u001b[38;5;124m\"\u001b[39m\u001b[38;5;241m.\u001b[39mformat(shuffle))\n\u001b[0;32m    364\u001b[0m \u001b[38;5;28;01mif\u001b[39;00m \u001b[38;5;129;01mnot\u001b[39;00m shuffle \u001b[38;5;129;01mand\u001b[39;00m random_state \u001b[38;5;129;01mis\u001b[39;00m \u001b[38;5;129;01mnot\u001b[39;00m \u001b[38;5;28;01mNone\u001b[39;00m:  \u001b[38;5;66;03m# None is the default\u001b[39;00m\n\u001b[1;32m--> 365\u001b[0m     \u001b[38;5;28;01mraise\u001b[39;00m \u001b[38;5;167;01mValueError\u001b[39;00m(\n\u001b[0;32m    366\u001b[0m         (\n\u001b[0;32m    367\u001b[0m             \u001b[38;5;124m\"\u001b[39m\u001b[38;5;124mSetting a random_state has no effect since shuffle is \u001b[39m\u001b[38;5;124m\"\u001b[39m\n\u001b[0;32m    368\u001b[0m             \u001b[38;5;124m\"\u001b[39m\u001b[38;5;124mFalse. You should leave \u001b[39m\u001b[38;5;124m\"\u001b[39m\n\u001b[0;32m    369\u001b[0m             \u001b[38;5;124m\"\u001b[39m\u001b[38;5;124mrandom_state to its default (None), or set shuffle=True.\u001b[39m\u001b[38;5;124m\"\u001b[39m\n\u001b[0;32m    370\u001b[0m         ),\n\u001b[0;32m    371\u001b[0m     )\n\u001b[0;32m    373\u001b[0m \u001b[38;5;28mself\u001b[39m\u001b[38;5;241m.\u001b[39mn_splits \u001b[38;5;241m=\u001b[39m n_splits\n\u001b[0;32m    374\u001b[0m \u001b[38;5;28mself\u001b[39m\u001b[38;5;241m.\u001b[39mshuffle \u001b[38;5;241m=\u001b[39m shuffle\n",
      "\u001b[1;31mValueError\u001b[0m: Setting a random_state has no effect since shuffle is False. You should leave random_state to its default (None), or set shuffle=True."
     ]
    }
   ],
   "source": [
    "from src.Utils.K_Fold import K_Fold\n",
    "\n",
    "\n",
    "print(\"🔹 Performing K-Fold...\")\n",
    "X_train_shared, X_test_shared, y_train_shared, y_test_shared, combined_df = K_Fold(X, y, n_splits=5)\n"
   ]
  },
  {
   "cell_type": "markdown",
   "id": "8f5d674a",
   "metadata": {},
   "source": [
    "# add to excel file "
   ]
  },
  {
   "cell_type": "code",
   "execution_count": null,
   "id": "5294a5df",
   "metadata": {},
   "outputs": [
    {
     "ename": "KeyboardInterrupt",
     "evalue": "",
     "output_type": "error",
     "traceback": [
      "\u001b[1;31m---------------------------------------------------------------------------\u001b[0m",
      "\u001b[1;31mKeyboardInterrupt\u001b[0m                         Traceback (most recent call last)",
      "Cell \u001b[1;32mIn[70], line 14\u001b[0m\n\u001b[0;32m     11\u001b[0m     book\u001b[38;5;241m.\u001b[39msave(DATA_PATH)\n\u001b[0;32m     13\u001b[0m \u001b[38;5;66;03m# Now write the new data\u001b[39;00m\n\u001b[1;32m---> 14\u001b[0m \u001b[38;5;28;43;01mwith\u001b[39;49;00m\u001b[43m \u001b[49m\u001b[43mpd\u001b[49m\u001b[38;5;241;43m.\u001b[39;49m\u001b[43mExcelWriter\u001b[49m\u001b[43m(\u001b[49m\u001b[43mDATA_PATH\u001b[49m\u001b[43m,\u001b[49m\u001b[43m \u001b[49m\u001b[43mengine\u001b[49m\u001b[38;5;241;43m=\u001b[39;49m\u001b[38;5;124;43m'\u001b[39;49m\u001b[38;5;124;43mopenpyxl\u001b[39;49m\u001b[38;5;124;43m'\u001b[39;49m\u001b[43m,\u001b[49m\u001b[43m \u001b[49m\u001b[43mmode\u001b[49m\u001b[38;5;241;43m=\u001b[39;49m\u001b[38;5;124;43m'\u001b[39;49m\u001b[38;5;124;43ma\u001b[39;49m\u001b[38;5;124;43m'\u001b[39;49m\u001b[43m)\u001b[49m\u001b[43m \u001b[49m\u001b[38;5;28;43;01mas\u001b[39;49;00m\u001b[43m \u001b[49m\u001b[43mwriter\u001b[49m\u001b[43m:\u001b[49m\n\u001b[0;32m     15\u001b[0m \u001b[43m    \u001b[49m\u001b[43mcombined_df\u001b[49m\u001b[38;5;241;43m.\u001b[39;49m\u001b[43mto_excel\u001b[49m\u001b[43m(\u001b[49m\u001b[43mwriter\u001b[49m\u001b[43m,\u001b[49m\u001b[43m \u001b[49m\u001b[43msheet_name\u001b[49m\u001b[38;5;241;43m=\u001b[39;49m\u001b[38;5;124;43m'\u001b[39;49m\u001b[38;5;124;43mDATA after K-Fold\u001b[39;49m\u001b[38;5;124;43m'\u001b[39;49m\u001b[43m,\u001b[49m\u001b[43m \u001b[49m\u001b[43mindex\u001b[49m\u001b[38;5;241;43m=\u001b[39;49m\u001b[38;5;28;43;01mFalse\u001b[39;49;00m\u001b[43m)\u001b[49m\n",
      "File \u001b[1;32md:\\Python\\Lib\\site-packages\\pandas\\io\\excel\\_base.py:1353\u001b[0m, in \u001b[0;36mExcelWriter.__exit__\u001b[1;34m(self, exc_type, exc_value, traceback)\u001b[0m\n\u001b[0;32m   1347\u001b[0m \u001b[38;5;28;01mdef\u001b[39;00m\u001b[38;5;250m \u001b[39m\u001b[38;5;21m__exit__\u001b[39m(\n\u001b[0;32m   1348\u001b[0m     \u001b[38;5;28mself\u001b[39m,\n\u001b[0;32m   1349\u001b[0m     exc_type: \u001b[38;5;28mtype\u001b[39m[\u001b[38;5;167;01mBaseException\u001b[39;00m] \u001b[38;5;241m|\u001b[39m \u001b[38;5;28;01mNone\u001b[39;00m,\n\u001b[0;32m   1350\u001b[0m     exc_value: \u001b[38;5;167;01mBaseException\u001b[39;00m \u001b[38;5;241m|\u001b[39m \u001b[38;5;28;01mNone\u001b[39;00m,\n\u001b[0;32m   1351\u001b[0m     traceback: TracebackType \u001b[38;5;241m|\u001b[39m \u001b[38;5;28;01mNone\u001b[39;00m,\n\u001b[0;32m   1352\u001b[0m ) \u001b[38;5;241m-\u001b[39m\u001b[38;5;241m>\u001b[39m \u001b[38;5;28;01mNone\u001b[39;00m:\n\u001b[1;32m-> 1353\u001b[0m     \u001b[38;5;28;43mself\u001b[39;49m\u001b[38;5;241;43m.\u001b[39;49m\u001b[43mclose\u001b[49m\u001b[43m(\u001b[49m\u001b[43m)\u001b[49m\n",
      "File \u001b[1;32md:\\Python\\Lib\\site-packages\\pandas\\io\\excel\\_base.py:1357\u001b[0m, in \u001b[0;36mExcelWriter.close\u001b[1;34m(self)\u001b[0m\n\u001b[0;32m   1355\u001b[0m \u001b[38;5;28;01mdef\u001b[39;00m\u001b[38;5;250m \u001b[39m\u001b[38;5;21mclose\u001b[39m(\u001b[38;5;28mself\u001b[39m) \u001b[38;5;241m-\u001b[39m\u001b[38;5;241m>\u001b[39m \u001b[38;5;28;01mNone\u001b[39;00m:\n\u001b[0;32m   1356\u001b[0m \u001b[38;5;250m    \u001b[39m\u001b[38;5;124;03m\"\"\"synonym for save, to make it more file-like\"\"\"\u001b[39;00m\n\u001b[1;32m-> 1357\u001b[0m     \u001b[38;5;28;43mself\u001b[39;49m\u001b[38;5;241;43m.\u001b[39;49m\u001b[43m_save\u001b[49m\u001b[43m(\u001b[49m\u001b[43m)\u001b[49m\n\u001b[0;32m   1358\u001b[0m     \u001b[38;5;28mself\u001b[39m\u001b[38;5;241m.\u001b[39m_handles\u001b[38;5;241m.\u001b[39mclose()\n",
      "File \u001b[1;32md:\\Python\\Lib\\site-packages\\pandas\\io\\excel\\_openpyxl.py:110\u001b[0m, in \u001b[0;36mOpenpyxlWriter._save\u001b[1;34m(self)\u001b[0m\n\u001b[0;32m    106\u001b[0m \u001b[38;5;28;01mdef\u001b[39;00m\u001b[38;5;250m \u001b[39m\u001b[38;5;21m_save\u001b[39m(\u001b[38;5;28mself\u001b[39m) \u001b[38;5;241m-\u001b[39m\u001b[38;5;241m>\u001b[39m \u001b[38;5;28;01mNone\u001b[39;00m:\n\u001b[0;32m    107\u001b[0m \u001b[38;5;250m    \u001b[39m\u001b[38;5;124;03m\"\"\"\u001b[39;00m\n\u001b[0;32m    108\u001b[0m \u001b[38;5;124;03m    Save workbook to disk.\u001b[39;00m\n\u001b[0;32m    109\u001b[0m \u001b[38;5;124;03m    \"\"\"\u001b[39;00m\n\u001b[1;32m--> 110\u001b[0m     \u001b[38;5;28;43mself\u001b[39;49m\u001b[38;5;241;43m.\u001b[39;49m\u001b[43mbook\u001b[49m\u001b[38;5;241;43m.\u001b[39;49m\u001b[43msave\u001b[49m\u001b[43m(\u001b[49m\u001b[38;5;28;43mself\u001b[39;49m\u001b[38;5;241;43m.\u001b[39;49m\u001b[43m_handles\u001b[49m\u001b[38;5;241;43m.\u001b[39;49m\u001b[43mhandle\u001b[49m\u001b[43m)\u001b[49m\n\u001b[0;32m    111\u001b[0m     \u001b[38;5;28;01mif\u001b[39;00m \u001b[38;5;124m\"\u001b[39m\u001b[38;5;124mr+\u001b[39m\u001b[38;5;124m\"\u001b[39m \u001b[38;5;129;01min\u001b[39;00m \u001b[38;5;28mself\u001b[39m\u001b[38;5;241m.\u001b[39m_mode \u001b[38;5;129;01mand\u001b[39;00m \u001b[38;5;129;01mnot\u001b[39;00m \u001b[38;5;28misinstance\u001b[39m(\u001b[38;5;28mself\u001b[39m\u001b[38;5;241m.\u001b[39m_handles\u001b[38;5;241m.\u001b[39mhandle, mmap\u001b[38;5;241m.\u001b[39mmmap):\n\u001b[0;32m    112\u001b[0m         \u001b[38;5;66;03m# truncate file to the written content\u001b[39;00m\n\u001b[0;32m    113\u001b[0m         \u001b[38;5;28mself\u001b[39m\u001b[38;5;241m.\u001b[39m_handles\u001b[38;5;241m.\u001b[39mhandle\u001b[38;5;241m.\u001b[39mtruncate()\n",
      "File \u001b[1;32md:\\Python\\Lib\\site-packages\\openpyxl\\workbook\\workbook.py:386\u001b[0m, in \u001b[0;36mWorkbook.save\u001b[1;34m(self, filename)\u001b[0m\n\u001b[0;32m    384\u001b[0m \u001b[38;5;28;01mif\u001b[39;00m \u001b[38;5;28mself\u001b[39m\u001b[38;5;241m.\u001b[39mwrite_only \u001b[38;5;129;01mand\u001b[39;00m \u001b[38;5;129;01mnot\u001b[39;00m \u001b[38;5;28mself\u001b[39m\u001b[38;5;241m.\u001b[39mworksheets:\n\u001b[0;32m    385\u001b[0m     \u001b[38;5;28mself\u001b[39m\u001b[38;5;241m.\u001b[39mcreate_sheet()\n\u001b[1;32m--> 386\u001b[0m \u001b[43msave_workbook\u001b[49m\u001b[43m(\u001b[49m\u001b[38;5;28;43mself\u001b[39;49m\u001b[43m,\u001b[49m\u001b[43m \u001b[49m\u001b[43mfilename\u001b[49m\u001b[43m)\u001b[49m\n",
      "File \u001b[1;32md:\\Python\\Lib\\site-packages\\openpyxl\\writer\\excel.py:294\u001b[0m, in \u001b[0;36msave_workbook\u001b[1;34m(workbook, filename)\u001b[0m\n\u001b[0;32m    292\u001b[0m workbook\u001b[38;5;241m.\u001b[39mproperties\u001b[38;5;241m.\u001b[39mmodified \u001b[38;5;241m=\u001b[39m datetime\u001b[38;5;241m.\u001b[39mdatetime\u001b[38;5;241m.\u001b[39mnow(tz\u001b[38;5;241m=\u001b[39mdatetime\u001b[38;5;241m.\u001b[39mtimezone\u001b[38;5;241m.\u001b[39mutc)\u001b[38;5;241m.\u001b[39mreplace(tzinfo\u001b[38;5;241m=\u001b[39m\u001b[38;5;28;01mNone\u001b[39;00m)\n\u001b[0;32m    293\u001b[0m writer \u001b[38;5;241m=\u001b[39m ExcelWriter(workbook, archive)\n\u001b[1;32m--> 294\u001b[0m \u001b[43mwriter\u001b[49m\u001b[38;5;241;43m.\u001b[39;49m\u001b[43msave\u001b[49m\u001b[43m(\u001b[49m\u001b[43m)\u001b[49m\n\u001b[0;32m    295\u001b[0m \u001b[38;5;28;01mreturn\u001b[39;00m \u001b[38;5;28;01mTrue\u001b[39;00m\n",
      "File \u001b[1;32md:\\Python\\Lib\\site-packages\\openpyxl\\writer\\excel.py:275\u001b[0m, in \u001b[0;36mExcelWriter.save\u001b[1;34m(self)\u001b[0m\n\u001b[0;32m    273\u001b[0m \u001b[38;5;28;01mdef\u001b[39;00m\u001b[38;5;250m \u001b[39m\u001b[38;5;21msave\u001b[39m(\u001b[38;5;28mself\u001b[39m):\n\u001b[0;32m    274\u001b[0m \u001b[38;5;250m    \u001b[39m\u001b[38;5;124;03m\"\"\"Write data into the archive.\"\"\"\u001b[39;00m\n\u001b[1;32m--> 275\u001b[0m     \u001b[38;5;28;43mself\u001b[39;49m\u001b[38;5;241;43m.\u001b[39;49m\u001b[43mwrite_data\u001b[49m\u001b[43m(\u001b[49m\u001b[43m)\u001b[49m\n\u001b[0;32m    276\u001b[0m     \u001b[38;5;28mself\u001b[39m\u001b[38;5;241m.\u001b[39m_archive\u001b[38;5;241m.\u001b[39mclose()\n",
      "File \u001b[1;32md:\\Python\\Lib\\site-packages\\openpyxl\\writer\\excel.py:77\u001b[0m, in \u001b[0;36mExcelWriter.write_data\u001b[1;34m(self)\u001b[0m\n\u001b[0;32m     74\u001b[0m     custom_override \u001b[38;5;241m=\u001b[39m CustomOverride()\n\u001b[0;32m     75\u001b[0m     \u001b[38;5;28mself\u001b[39m\u001b[38;5;241m.\u001b[39mmanifest\u001b[38;5;241m.\u001b[39mappend(custom_override)\n\u001b[1;32m---> 77\u001b[0m \u001b[38;5;28;43mself\u001b[39;49m\u001b[38;5;241;43m.\u001b[39;49m\u001b[43m_write_worksheets\u001b[49m\u001b[43m(\u001b[49m\u001b[43m)\u001b[49m\n\u001b[0;32m     78\u001b[0m \u001b[38;5;28mself\u001b[39m\u001b[38;5;241m.\u001b[39m_write_chartsheets()\n\u001b[0;32m     79\u001b[0m \u001b[38;5;28mself\u001b[39m\u001b[38;5;241m.\u001b[39m_write_images()\n",
      "File \u001b[1;32md:\\Python\\Lib\\site-packages\\openpyxl\\writer\\excel.py:215\u001b[0m, in \u001b[0;36mExcelWriter._write_worksheets\u001b[1;34m(self)\u001b[0m\n\u001b[0;32m    212\u001b[0m \u001b[38;5;28;01mfor\u001b[39;00m idx, ws \u001b[38;5;129;01min\u001b[39;00m \u001b[38;5;28menumerate\u001b[39m(\u001b[38;5;28mself\u001b[39m\u001b[38;5;241m.\u001b[39mworkbook\u001b[38;5;241m.\u001b[39mworksheets, \u001b[38;5;241m1\u001b[39m):\n\u001b[0;32m    214\u001b[0m     ws\u001b[38;5;241m.\u001b[39m_id \u001b[38;5;241m=\u001b[39m idx\n\u001b[1;32m--> 215\u001b[0m     \u001b[38;5;28;43mself\u001b[39;49m\u001b[38;5;241;43m.\u001b[39;49m\u001b[43mwrite_worksheet\u001b[49m\u001b[43m(\u001b[49m\u001b[43mws\u001b[49m\u001b[43m)\u001b[49m\n\u001b[0;32m    217\u001b[0m     \u001b[38;5;28;01mif\u001b[39;00m ws\u001b[38;5;241m.\u001b[39m_drawing:\n\u001b[0;32m    218\u001b[0m         \u001b[38;5;28mself\u001b[39m\u001b[38;5;241m.\u001b[39m_write_drawing(ws\u001b[38;5;241m.\u001b[39m_drawing)\n",
      "File \u001b[1;32md:\\Python\\Lib\\site-packages\\openpyxl\\writer\\excel.py:200\u001b[0m, in \u001b[0;36mExcelWriter.write_worksheet\u001b[1;34m(self, ws)\u001b[0m\n\u001b[0;32m    198\u001b[0m \u001b[38;5;28;01melse\u001b[39;00m:\n\u001b[0;32m    199\u001b[0m     writer \u001b[38;5;241m=\u001b[39m WorksheetWriter(ws)\n\u001b[1;32m--> 200\u001b[0m     \u001b[43mwriter\u001b[49m\u001b[38;5;241;43m.\u001b[39;49m\u001b[43mwrite\u001b[49m\u001b[43m(\u001b[49m\u001b[43m)\u001b[49m\n\u001b[0;32m    202\u001b[0m ws\u001b[38;5;241m.\u001b[39m_rels \u001b[38;5;241m=\u001b[39m writer\u001b[38;5;241m.\u001b[39m_rels\n\u001b[0;32m    203\u001b[0m \u001b[38;5;28mself\u001b[39m\u001b[38;5;241m.\u001b[39m_archive\u001b[38;5;241m.\u001b[39mwrite(writer\u001b[38;5;241m.\u001b[39mout, ws\u001b[38;5;241m.\u001b[39mpath[\u001b[38;5;241m1\u001b[39m:])\n",
      "File \u001b[1;32md:\\Python\\Lib\\site-packages\\openpyxl\\worksheet\\_writer.py:359\u001b[0m, in \u001b[0;36mWorksheetWriter.write\u001b[1;34m(self)\u001b[0m\n\u001b[0;32m    355\u001b[0m \u001b[38;5;250m\u001b[39m\u001b[38;5;124;03m\"\"\"\u001b[39;00m\n\u001b[0;32m    356\u001b[0m \u001b[38;5;124;03mHigh level\u001b[39;00m\n\u001b[0;32m    357\u001b[0m \u001b[38;5;124;03m\"\"\"\u001b[39;00m\n\u001b[0;32m    358\u001b[0m \u001b[38;5;28mself\u001b[39m\u001b[38;5;241m.\u001b[39mwrite_top()\n\u001b[1;32m--> 359\u001b[0m \u001b[38;5;28;43mself\u001b[39;49m\u001b[38;5;241;43m.\u001b[39;49m\u001b[43mwrite_rows\u001b[49m\u001b[43m(\u001b[49m\u001b[43m)\u001b[49m\n\u001b[0;32m    360\u001b[0m \u001b[38;5;28mself\u001b[39m\u001b[38;5;241m.\u001b[39mwrite_tail()\n\u001b[0;32m    361\u001b[0m \u001b[38;5;28mself\u001b[39m\u001b[38;5;241m.\u001b[39mclose()\n",
      "File \u001b[1;32md:\\Python\\Lib\\site-packages\\openpyxl\\worksheet\\_writer.py:125\u001b[0m, in \u001b[0;36mWorksheetWriter.write_rows\u001b[1;34m(self)\u001b[0m\n\u001b[0;32m    123\u001b[0m \u001b[38;5;28;01mwith\u001b[39;00m xf\u001b[38;5;241m.\u001b[39melement(\u001b[38;5;124m\"\u001b[39m\u001b[38;5;124msheetData\u001b[39m\u001b[38;5;124m\"\u001b[39m):\n\u001b[0;32m    124\u001b[0m     \u001b[38;5;28;01mfor\u001b[39;00m row_idx, row \u001b[38;5;129;01min\u001b[39;00m \u001b[38;5;28mself\u001b[39m\u001b[38;5;241m.\u001b[39mrows():\n\u001b[1;32m--> 125\u001b[0m         \u001b[38;5;28;43mself\u001b[39;49m\u001b[38;5;241;43m.\u001b[39;49m\u001b[43mwrite_row\u001b[49m\u001b[43m(\u001b[49m\u001b[43mxf\u001b[49m\u001b[43m,\u001b[49m\u001b[43m \u001b[49m\u001b[43mrow\u001b[49m\u001b[43m,\u001b[49m\u001b[43m \u001b[49m\u001b[43mrow_idx\u001b[49m\u001b[43m)\u001b[49m\n\u001b[0;32m    127\u001b[0m \u001b[38;5;28mself\u001b[39m\u001b[38;5;241m.\u001b[39mxf\u001b[38;5;241m.\u001b[39msend(\u001b[38;5;28;01mNone\u001b[39;00m)\n",
      "File \u001b[1;32md:\\Python\\Lib\\site-packages\\openpyxl\\worksheet\\_writer.py:147\u001b[0m, in \u001b[0;36mWorksheetWriter.write_row\u001b[1;34m(self, xf, row, row_idx)\u001b[0m\n\u001b[0;32m    141\u001b[0m \u001b[38;5;28;01mif\u001b[39;00m (\n\u001b[0;32m    142\u001b[0m     cell\u001b[38;5;241m.\u001b[39m_value \u001b[38;5;129;01mis\u001b[39;00m \u001b[38;5;28;01mNone\u001b[39;00m\n\u001b[0;32m    143\u001b[0m     \u001b[38;5;129;01mand\u001b[39;00m \u001b[38;5;129;01mnot\u001b[39;00m cell\u001b[38;5;241m.\u001b[39mhas_style\n\u001b[0;32m    144\u001b[0m     \u001b[38;5;129;01mand\u001b[39;00m \u001b[38;5;129;01mnot\u001b[39;00m cell\u001b[38;5;241m.\u001b[39m_comment\n\u001b[0;32m    145\u001b[0m     ):\n\u001b[0;32m    146\u001b[0m     \u001b[38;5;28;01mcontinue\u001b[39;00m\n\u001b[1;32m--> 147\u001b[0m \u001b[43mwrite_cell\u001b[49m\u001b[43m(\u001b[49m\u001b[43mxf\u001b[49m\u001b[43m,\u001b[49m\u001b[43m \u001b[49m\u001b[38;5;28;43mself\u001b[39;49m\u001b[38;5;241;43m.\u001b[39;49m\u001b[43mws\u001b[49m\u001b[43m,\u001b[49m\u001b[43m \u001b[49m\u001b[43mcell\u001b[49m\u001b[43m,\u001b[49m\u001b[43m \u001b[49m\u001b[43mcell\u001b[49m\u001b[38;5;241;43m.\u001b[39;49m\u001b[43mhas_style\u001b[49m\u001b[43m)\u001b[49m\n",
      "File \u001b[1;32md:\\Python\\Lib\\site-packages\\openpyxl\\cell\\_writer.py:86\u001b[0m, in \u001b[0;36metree_write_cell\u001b[1;34m(xf, worksheet, cell, styled)\u001b[0m\n\u001b[0;32m     83\u001b[0m     \u001b[38;5;28;01mif\u001b[39;00m value \u001b[38;5;129;01mis\u001b[39;00m \u001b[38;5;129;01mnot\u001b[39;00m \u001b[38;5;28;01mNone\u001b[39;00m:\n\u001b[0;32m     84\u001b[0m         cell_content\u001b[38;5;241m.\u001b[39mtext \u001b[38;5;241m=\u001b[39m safe_string(value)\n\u001b[1;32m---> 86\u001b[0m \u001b[43mxf\u001b[49m\u001b[38;5;241;43m.\u001b[39;49m\u001b[43mwrite\u001b[49m\u001b[43m(\u001b[49m\u001b[43mel\u001b[49m\u001b[43m)\u001b[49m\n",
      "File \u001b[1;32md:\\Python\\Lib\\site-packages\\et_xmlfile\\xmlfile.py:120\u001b[0m, in \u001b[0;36m_IncrementalFileWriter.write\u001b[1;34m(self, arg)\u001b[0m\n\u001b[0;32m    118\u001b[0m     default_ns_attr_prefix \u001b[38;5;241m=\u001b[39m \u001b[38;5;28;01mNone\u001b[39;00m\n\u001b[0;32m    119\u001b[0m     uri_to_prefix \u001b[38;5;241m=\u001b[39m {}\n\u001b[1;32m--> 120\u001b[0m \u001b[43mincremental_tree\u001b[49m\u001b[38;5;241;43m.\u001b[39;49m\u001b[43m_serialize_ns_xml\u001b[49m\u001b[43m(\u001b[49m\n\u001b[0;32m    121\u001b[0m \u001b[43m    \u001b[49m\u001b[38;5;28;43mself\u001b[39;49m\u001b[38;5;241;43m.\u001b[39;49m\u001b[43m_file\u001b[49m\u001b[43m,\u001b[49m\n\u001b[0;32m    122\u001b[0m \u001b[43m    \u001b[49m\u001b[43marg\u001b[49m\u001b[43m,\u001b[49m\n\u001b[0;32m    123\u001b[0m \u001b[43m    \u001b[49m\u001b[43mnsmap_scope\u001b[49m\u001b[38;5;241;43m=\u001b[39;49m\u001b[43mnsmap_scope\u001b[49m\u001b[43m,\u001b[49m\n\u001b[0;32m    124\u001b[0m \u001b[43m    \u001b[49m\u001b[43mglobal_nsmap\u001b[49m\u001b[38;5;241;43m=\u001b[39;49m\u001b[38;5;28;43mself\u001b[39;49m\u001b[38;5;241;43m.\u001b[39;49m\u001b[43mglobal_nsmap\u001b[49m\u001b[43m,\u001b[49m\n\u001b[0;32m    125\u001b[0m \u001b[43m    \u001b[49m\u001b[43mshort_empty_elements\u001b[49m\u001b[38;5;241;43m=\u001b[39;49m\u001b[38;5;28;43;01mTrue\u001b[39;49;00m\u001b[43m,\u001b[49m\n\u001b[0;32m    126\u001b[0m \u001b[43m    \u001b[49m\u001b[43mis_html\u001b[49m\u001b[38;5;241;43m=\u001b[39;49m\u001b[38;5;28;43mself\u001b[39;49m\u001b[38;5;241;43m.\u001b[39;49m\u001b[43mis_html\u001b[49m\u001b[43m,\u001b[49m\n\u001b[0;32m    127\u001b[0m \u001b[43m    \u001b[49m\u001b[43mis_root\u001b[49m\u001b[38;5;241;43m=\u001b[39;49m\u001b[43mis_root\u001b[49m\u001b[43m,\u001b[49m\n\u001b[0;32m    128\u001b[0m \u001b[43m    \u001b[49m\u001b[43muri_to_prefix\u001b[49m\u001b[38;5;241;43m=\u001b[39;49m\u001b[43muri_to_prefix\u001b[49m\u001b[43m,\u001b[49m\n\u001b[0;32m    129\u001b[0m \u001b[43m    \u001b[49m\u001b[43mdefault_ns_attr_prefix\u001b[49m\u001b[38;5;241;43m=\u001b[39;49m\u001b[43mdefault_ns_attr_prefix\u001b[49m\u001b[43m,\u001b[49m\n\u001b[0;32m    130\u001b[0m \u001b[43m\u001b[49m\u001b[43m)\u001b[49m\n",
      "File \u001b[1;32md:\\Python\\Lib\\site-packages\\et_xmlfile\\incremental_tree.py:613\u001b[0m, in \u001b[0;36m_serialize_ns_xml\u001b[1;34m(write, elem, nsmap_scope, global_nsmap, short_empty_elements, is_html, is_root, uri_to_prefix, default_ns_attr_prefix, new_nsmap, **kwargs)\u001b[0m\n\u001b[0;32m    566\u001b[0m \u001b[38;5;28;01mdef\u001b[39;00m\u001b[38;5;250m \u001b[39m\u001b[38;5;21m_serialize_ns_xml\u001b[39m(\n\u001b[0;32m    567\u001b[0m     write,\n\u001b[0;32m    568\u001b[0m     elem,\n\u001b[1;32m   (...)\u001b[0m\n\u001b[0;32m    577\u001b[0m     \u001b[38;5;241m*\u001b[39m\u001b[38;5;241m*\u001b[39mkwargs,\n\u001b[0;32m    578\u001b[0m ):\n\u001b[0;32m    579\u001b[0m \u001b[38;5;250m    \u001b[39m\u001b[38;5;124;03m\"\"\"Serialize an element or tree using 'write' for output.\u001b[39;00m\n\u001b[0;32m    580\u001b[0m \n\u001b[0;32m    581\u001b[0m \u001b[38;5;124;03m    Args:\u001b[39;00m\n\u001b[1;32m   (...)\u001b[0m\n\u001b[0;32m    605\u001b[0m \u001b[38;5;124;03m            New prefix -> uri mapping to be applied to this element.\u001b[39;00m\n\u001b[0;32m    606\u001b[0m \u001b[38;5;124;03m    \"\"\"\u001b[39;00m\n\u001b[0;32m    607\u001b[0m     (\n\u001b[0;32m    608\u001b[0m         tag,\n\u001b[0;32m    609\u001b[0m         nsmap_scope,\n\u001b[0;32m    610\u001b[0m         default_ns_attr_prefix,\n\u001b[0;32m    611\u001b[0m         uri_to_prefix,\n\u001b[0;32m    612\u001b[0m         next_remains_root,\n\u001b[1;32m--> 613\u001b[0m     ) \u001b[38;5;241m=\u001b[39m \u001b[43mwrite_elem_start\u001b[49m\u001b[43m(\u001b[49m\n\u001b[0;32m    614\u001b[0m \u001b[43m        \u001b[49m\u001b[43mwrite\u001b[49m\u001b[43m,\u001b[49m\n\u001b[0;32m    615\u001b[0m \u001b[43m        \u001b[49m\u001b[43melem\u001b[49m\u001b[43m,\u001b[49m\n\u001b[0;32m    616\u001b[0m \u001b[43m        \u001b[49m\u001b[43mnsmap_scope\u001b[49m\u001b[43m,\u001b[49m\n\u001b[0;32m    617\u001b[0m \u001b[43m        \u001b[49m\u001b[43mglobal_nsmap\u001b[49m\u001b[43m,\u001b[49m\n\u001b[0;32m    618\u001b[0m \u001b[43m        \u001b[49m\u001b[43mshort_empty_elements\u001b[49m\u001b[43m,\u001b[49m\n\u001b[0;32m    619\u001b[0m \u001b[43m        \u001b[49m\u001b[43mis_html\u001b[49m\u001b[43m,\u001b[49m\n\u001b[0;32m    620\u001b[0m \u001b[43m        \u001b[49m\u001b[43mis_root\u001b[49m\u001b[43m,\u001b[49m\n\u001b[0;32m    621\u001b[0m \u001b[43m        \u001b[49m\u001b[43muri_to_prefix\u001b[49m\u001b[43m,\u001b[49m\n\u001b[0;32m    622\u001b[0m \u001b[43m        \u001b[49m\u001b[43mdefault_ns_attr_prefix\u001b[49m\u001b[43m,\u001b[49m\n\u001b[0;32m    623\u001b[0m \u001b[43m        \u001b[49m\u001b[43mnew_nsmap\u001b[49m\u001b[38;5;241;43m=\u001b[39;49m\u001b[43mnew_nsmap\u001b[49m\u001b[43m,\u001b[49m\n\u001b[0;32m    624\u001b[0m \u001b[43m    \u001b[49m\u001b[43m)\u001b[49m\n\u001b[0;32m    625\u001b[0m     \u001b[38;5;28;01mfor\u001b[39;00m e \u001b[38;5;129;01min\u001b[39;00m elem:\n\u001b[0;32m    626\u001b[0m         _serialize_ns_xml(\n\u001b[0;32m    627\u001b[0m             write,\n\u001b[0;32m    628\u001b[0m             e,\n\u001b[1;32m   (...)\u001b[0m\n\u001b[0;32m    636\u001b[0m             new_nsmap\u001b[38;5;241m=\u001b[39m\u001b[38;5;28;01mNone\u001b[39;00m,\n\u001b[0;32m    637\u001b[0m         )\n",
      "File \u001b[1;32md:\\Python\\Lib\\site-packages\\et_xmlfile\\incremental_tree.py:539\u001b[0m, in \u001b[0;36mwrite_elem_start\u001b[1;34m(write, elem, nsmap_scope, global_nsmap, short_empty_elements, is_html, is_root, uri_to_prefix, default_ns_attr_prefix, new_nsmap, **kwargs)\u001b[0m\n\u001b[0;32m    537\u001b[0m         write(\u001b[38;5;124m\"\u001b[39m\u001b[38;5;124m\"\u001b[39m\u001b[38;5;241m.\u001b[39mjoin([\u001b[38;5;124mf\u001b[39m\u001b[38;5;124m'\u001b[39m\u001b[38;5;124m \u001b[39m\u001b[38;5;132;01m{\u001b[39;00mk\u001b[38;5;132;01m}\u001b[39;00m\u001b[38;5;124m=\u001b[39m\u001b[38;5;124m\"\u001b[39m\u001b[38;5;132;01m{\u001b[39;00mET\u001b[38;5;241m.\u001b[39m_escape_attrib_html(v)\u001b[38;5;132;01m}\u001b[39;00m\u001b[38;5;124m\"\u001b[39m\u001b[38;5;124m'\u001b[39m \u001b[38;5;28;01mfor\u001b[39;00m k, v \u001b[38;5;129;01min\u001b[39;00m item_parts]))\n\u001b[0;32m    538\u001b[0m     \u001b[38;5;28;01melse\u001b[39;00m:\n\u001b[1;32m--> 539\u001b[0m         \u001b[43mwrite\u001b[49m\u001b[43m(\u001b[49m\u001b[38;5;124;43m\"\u001b[39;49m\u001b[38;5;124;43m\"\u001b[39;49m\u001b[38;5;241;43m.\u001b[39;49m\u001b[43mjoin\u001b[49m\u001b[43m(\u001b[49m\u001b[43m[\u001b[49m\u001b[38;5;124;43mf\u001b[39;49m\u001b[38;5;124;43m'\u001b[39;49m\u001b[38;5;124;43m \u001b[39;49m\u001b[38;5;132;43;01m{\u001b[39;49;00m\u001b[43mk\u001b[49m\u001b[38;5;132;43;01m}\u001b[39;49;00m\u001b[38;5;124;43m=\u001b[39;49m\u001b[38;5;124;43m\"\u001b[39;49m\u001b[38;5;132;43;01m{\u001b[39;49;00m\u001b[43mET\u001b[49m\u001b[38;5;241;43m.\u001b[39;49m\u001b[43m_escape_attrib\u001b[49m\u001b[43m(\u001b[49m\u001b[43mv\u001b[49m\u001b[43m)\u001b[49m\u001b[38;5;132;43;01m}\u001b[39;49;00m\u001b[38;5;124;43m\"\u001b[39;49m\u001b[38;5;124;43m'\u001b[39;49m\u001b[43m \u001b[49m\u001b[38;5;28;43;01mfor\u001b[39;49;00m\u001b[43m \u001b[49m\u001b[43mk\u001b[49m\u001b[43m,\u001b[49m\u001b[43m \u001b[49m\u001b[43mv\u001b[49m\u001b[43m \u001b[49m\u001b[38;5;129;43;01min\u001b[39;49;00m\u001b[43m \u001b[49m\u001b[43mitem_parts\u001b[49m\u001b[43m]\u001b[49m\u001b[43m)\u001b[49m\u001b[43m)\u001b[49m\n\u001b[0;32m    540\u001b[0m \u001b[38;5;28;01mif\u001b[39;00m is_html:\n\u001b[0;32m    541\u001b[0m     write(\u001b[38;5;124m\"\u001b[39m\u001b[38;5;124m>\u001b[39m\u001b[38;5;124m\"\u001b[39m)\n",
      "\u001b[1;31mKeyboardInterrupt\u001b[0m: "
     ]
    }
   ],
   "source": [
    "import pandas as pd\n",
    "from openpyxl import load_workbook\n",
    "\n",
    "# Load workbook\n",
    "book = load_workbook(DATA_PATH)\n",
    "\n",
    "# If the sheet exists, delete it\n",
    "if 'DATA after K-Fold' in book.sheetnames:\n",
    "    std = book['DATA after K-Fold']\n",
    "    book.remove(std)\n",
    "    book.save(DATA_PATH)\n",
    "\n",
    "# Now write the new data\n",
    "with pd.ExcelWriter(DATA_PATH, engine='openpyxl', mode='a') as writer:\n",
    "    combined_df.to_excel(writer, sheet_name='DATA after K-Fold', index=False)\n"
   ]
  },
  {
   "cell_type": "code",
   "execution_count": null,
   "id": "aa530a7a",
   "metadata": {},
   "outputs": [
    {
     "name": "stdout",
     "output_type": "stream",
     "text": [
      "\n",
      "🔹 Average Baseline Model Scores:\n",
      "🔹 Extra Trees Regressor:\n",
      "  R2: 0.9681\n",
      "  RMSE: 0.0032\n",
      "  MAE: 0.0410\n",
      "  MAPE: 0.6522\n",
      "  MARD: 0.3257\n",
      "\n",
      "🔹 Lasso Regression:\n",
      "  R2: 0.9359\n",
      "  RMSE: 0.0063\n",
      "  MAE: 0.0622\n",
      "  MAPE: 0.9866\n",
      "  MARD: 0.4928\n"
     ]
    }
   ],
   "source": [
    "def summarize_metrics(metrics_list):\n",
    "  return {key: np.mean([m[key] for m in metrics_list]) for key in metrics_list[0]}\n",
    "\n",
    "avg_etr = summarize_metrics(etr_scores)\n",
    "avg_lasso = summarize_metrics(lasso_scores)\n",
    "\n",
    "print(\"\\n🔹 Average Baseline Model Scores:\")\n",
    "print(\"🔹 Extra Trees Regressor:\")\n",
    "for k, v in avg_etr.items():\n",
    "  print(f\"  {k}: {v:.4f}\")\n",
    "\n",
    "print(\"\\n🔹 Lasso Regression:\")\n",
    "for k, v in avg_lasso.items():\n",
    "  print(f\"  {k}: {v:.4f}\")\n"
   ]
  },
  {
   "cell_type": "markdown",
   "id": "4d951fa7",
   "metadata": {},
   "source": [
    "# Define the parameter bounds for the optimizers\n"
   ]
  },
  {
   "cell_type": "code",
   "execution_count": null,
   "id": "9c0e0910",
   "metadata": {},
   "outputs": [],
   "source": [
    "\n",
    "#Extra Trees Regressor\n",
    "lb_et = [10, 5, 2, 1]          # n_estimators, max_depth, min_samples_split, min_samples_leaf\n",
    "ub_et = [300, 50, 10, 10]\n",
    "dim_et = 4\n",
    "\n",
    "# Lasso Regression\n",
    "lb_lasso = [0.0001, 100]       # alpha, max_iter\n",
    "ub_lasso = [1.0, 1000]\n",
    "dim_lasso = 2\n",
    "\n",
    "n_agents = 3\n",
    "max_iter = 5"
   ]
  },
  {
   "cell_type": "markdown",
   "id": "ff2f0d4a",
   "metadata": {},
   "source": [
    "# @@@@@@@@@@@@@@@@@@@@@@@@@@@@@@@@@@@@@@@@@@@@@@@@@@@@@@@@@@@@@@@@@@@@@@@@@@@@@@@@@@@@@@@@@@@@@@@@@@@@@@@@@@"
   ]
  },
  {
   "cell_type": "code",
   "execution_count": null,
   "id": "69383b85",
   "metadata": {},
   "outputs": [],
   "source": [
    "from sklearn.ensemble import ExtraTreesRegressor\n",
    "from sklearn.linear_model import Lasso\n",
    "from sklearn.metrics import mean_absolute_error\n",
    "import numpy as np\n",
    "params = []\n",
    "def train_raw_model(model_name, X_train, y_train, X_test, y_test):\n",
    "    # Choose model\n",
    "    if model_name == \"ETR\":\n",
    "        # params=random_state=42, n_estimators=100, max_depth=3, min_samples_split=5\n",
    "        params = {\n",
    "            \"random_state\": 42,\n",
    "            \"n_estimators\": 99,\n",
    "            \"max_depth\": 3,\n",
    "            \"min_samples_split\": 5,\n",
    "        }\n",
    "\n",
    "        model = ExtraTreesRegressor(random_state=params[\"random_state\"], n_estimators=params[\"n_estimators\"],max_depth=params[\"max_depth\"],min_samples_split=params[\"min_samples_split\"])  # Default parameters\n",
    "    elif model_name == \"LR\":\n",
    "        # params=random_state=42, alpha=0.1, max_iter=1000, tol=0.01\n",
    "        params = {\n",
    "            \"random_state\": 42,\n",
    "            \"alpha\": 0.1,\n",
    "            \"max_iter\": 1000,\n",
    "            \"tol\": 0.01,\n",
    "        }\n",
    "        model = Lasso(random_state=params[\"random_state\"],alpha=params[\"alpha\"],max_iter=params[\"max_iter\"],tol=params['tol'])  # Default parameters\n",
    "    else:\n",
    "        raise ValueError(\"Unsupported model name. Use 'ETR' or 'LR'.\")\n",
    "\n",
    "    # Fit model\n",
    "    model.fit(X_train, y_train)\n",
    "\n",
    "    # Predict\n",
    "    predictions = model.predict(X_test)\n",
    "\n",
    "    # Calculate MAE\n",
    "    mae_error = mean_absolute_error(y_test, predictions)\n",
    "\n",
    "    # Since we're using default params, params is just the default config\n",
    "    \n",
    "    return {\n",
    "        \"model_name\": model_name,\n",
    "        \"predictions\": predictions,\n",
    "        \"mae\": mae_error,\n",
    "        \"params\": params,\n",
    "   \n",
    "    }\n",
    "\n",
    "\n",
    "\n",
    "\n"
   ]
  },
  {
   "cell_type": "code",
   "execution_count": null,
   "id": "5561562d",
   "metadata": {},
   "outputs": [
    {
     "name": "stdout",
     "output_type": "stream",
     "text": [
      "🔹 Extra Trees MAE: 0.0342600534746883\n",
      "🔹 Lasso Regression MAE: 0.04867650404816282\n",
      "🔧 Best Params (ETR): {'random_state': 42, 'n_estimators': 99, 'max_depth': 3, 'min_samples_split': 5}\n",
      "🔧 Best Params (LR): {'random_state': 42, 'alpha': 0.1, 'max_iter': 1000, 'tol': 0.01}\n"
     ]
    }
   ],
   "source": [
    "etr_result = train_raw_model(\"ETR\", X_train_shared, y_train_shared, X_test_shared, y_test_shared)\n",
    "lr_result = train_raw_model(\"LR\", X_train_shared, y_train_shared, X_test_shared, y_test_shared)\n",
    "\n",
    "# Access results\n",
    "print(\"🔹 Extra Trees MAE:\", etr_result[\"mae\"])\n",
    "print(\"🔹 Lasso Regression MAE:\", lr_result[\"mae\"])\n",
    "print(\"🔧 Best Params (ETR):\", etr_result[\"params\"])\n",
    "print(\"🔧 Best Params (LR):\", lr_result[\"params\"])\n",
    "\n"
   ]
  },
  {
   "cell_type": "code",
   "execution_count": null,
   "id": "124eb1dc",
   "metadata": {},
   "outputs": [],
   "source": [
    "import numpy as np\n",
    "\n",
    "def koa_optimizer(objective_function, lb, ub, dim, n_agents, max_iter, X, y):\n",
    "    pos = np.random.uniform(low=lb, high=ub, size=(n_agents, dim))\n",
    "    fit = np.array([objective_function(ind, X, y) for ind in pos])\n",
    "\n",
    "    best_idx = np.argmin(fit)\n",
    "    best_pos = pos[best_idx].copy()\n",
    "    best_fit = fit[best_idx]\n",
    "\n",
    "    for t in range(max_iter):\n",
    "        for i in range(n_agents):\n",
    "            rand_idx = np.random.randint(n_agents)\n",
    "            r = np.random.rand(dim)\n",
    "            step = r * (pos[rand_idx] - pos[i])\n",
    "            new_pos = pos[i] + step\n",
    "\n",
    "            new_pos = np.clip(new_pos, lb, ub)\n",
    "            new_fit = objective_function(new_pos, X, y)\n",
    "\n",
    "            if new_fit < fit[i]:\n",
    "                pos[i] = new_pos\n",
    "                fit[i] = new_fit\n",
    "\n",
    "                if new_fit < best_fit:\n",
    "                    best_fit = new_fit\n",
    "                    best_pos = new_pos\n",
    "\n",
    "        print(f\"🔁 Iter {t+1}/{max_iter} - Best MAE: {best_fit:.5f}\")\n",
    "\n",
    "    return best_pos, best_fit\n"
   ]
  },
  {
   "cell_type": "markdown",
   "id": "243017b6",
   "metadata": {},
   "source": [
    "# Example for Extra Trees Regressor (ETR)"
   ]
  },
  {
   "cell_type": "code",
   "execution_count": null,
   "id": "bfa9807a",
   "metadata": {},
   "outputs": [
    {
     "name": "stdout",
     "output_type": "stream",
     "text": [
      "🔁 Iter 1/20 - Best MAE: 0.00940\n",
      "🔁 Iter 2/20 - Best MAE: 0.00940\n",
      "🔁 Iter 3/20 - Best MAE: 0.00940\n",
      "🔁 Iter 4/20 - Best MAE: 0.00930\n",
      "🔁 Iter 5/20 - Best MAE: 0.00930\n",
      "🔁 Iter 6/20 - Best MAE: 0.00930\n",
      "🔁 Iter 7/20 - Best MAE: 0.00930\n",
      "🔁 Iter 8/20 - Best MAE: 0.00930\n",
      "🔁 Iter 9/20 - Best MAE: 0.00929\n",
      "🔁 Iter 10/20 - Best MAE: 0.00929\n",
      "🔁 Iter 11/20 - Best MAE: 0.00929\n",
      "🔁 Iter 12/20 - Best MAE: 0.00929\n",
      "🔁 Iter 13/20 - Best MAE: 0.00929\n",
      "🔁 Iter 14/20 - Best MAE: 0.00929\n",
      "🔁 Iter 15/20 - Best MAE: 0.00929\n",
      "🔁 Iter 16/20 - Best MAE: 0.00929\n",
      "🔁 Iter 17/20 - Best MAE: 0.00929\n",
      "🔁 Iter 18/20 - Best MAE: 0.00929\n",
      "🔁 Iter 19/20 - Best MAE: 0.00929\n",
      "🔁 Iter 20/20 - Best MAE: 0.00929\n"
     ]
    }
   ],
   "source": [
    "from sklearn.ensemble import ExtraTreesRegressor\n",
    "from sklearn.metrics import mean_absolute_error\n",
    "\n",
    "# Objective Function for ETR\n",
    "def fobj_etr(params, X, y):\n",
    "    n_estimators = int(params[0])\n",
    "    max_depth = int(params[1])\n",
    "    min_samples_split = int(params[2])\n",
    "    \n",
    "    model = ExtraTreesRegressor(\n",
    "        random_state=42,\n",
    "        n_estimators=n_estimators,\n",
    "        max_depth=max_depth,\n",
    "        min_samples_split=min_samples_split\n",
    "    )\n",
    "    \n",
    "    model.fit(X, y)\n",
    "    preds = model.predict(X)\n",
    "    mae = mean_absolute_error(y, preds)\n",
    "    return mae\n",
    "\n",
    "# Bounds & Dimension\n",
    "lb = np.array([50, 2, 2])    # lower bounds: n_estimators, max_depth, min_samples_split\n",
    "ub = np.array([150, 10, 10]) # upper bounds\n",
    "dim = 3\n",
    "n_agents = 10\n",
    "max_iter = 20\n",
    "\n",
    "# Run KOA for ETR\n",
    "best_pos_etr, best_mae_etr = koa_optimizer(\n",
    "    fobj_etr, lb, ub, dim, n_agents, max_iter,\n",
    "    X_train_shared, y_train_shared\n",
    ")\n",
    "\n",
    "# Train on best parameters\n",
    "best_params_etr = {\n",
    "    'random_state': 42,\n",
    "    'n_estimators': int(best_pos_etr[0]),\n",
    "    'max_depth': int(best_pos_etr[1]),\n",
    "    'min_samples_split': int(best_pos_etr[2])\n",
    "}\n",
    "etr_model = ExtraTreesRegressor(**best_params_etr)\n",
    "etr_model.fit(X_train_shared, y_train_shared)\n",
    "\n",
    "# Predictions\n",
    "train_preds_etr = etr_model.predict(X_train_shared)\n",
    "test_preds_etr = etr_model.predict(X_test_shared)\n",
    "etr_final_preds = np.concatenate([train_preds_etr, test_preds_etr])\n"
   ]
  },
  {
   "cell_type": "markdown",
   "id": "c2bd5472",
   "metadata": {},
   "source": [
    "# Example for Lasso Regression (LR)"
   ]
  },
  {
   "cell_type": "code",
   "execution_count": null,
   "id": "98a9ffeb",
   "metadata": {},
   "outputs": [
    {
     "name": "stdout",
     "output_type": "stream",
     "text": [
      "🔁 Iter 1/20 - Best MAE: 0.02816\n",
      "🔁 Iter 2/20 - Best MAE: 0.02816\n",
      "🔁 Iter 3/20 - Best MAE: 0.02816\n",
      "🔁 Iter 4/20 - Best MAE: 0.02816\n",
      "🔁 Iter 5/20 - Best MAE: 0.02816\n",
      "🔁 Iter 6/20 - Best MAE: 0.02816\n",
      "🔁 Iter 7/20 - Best MAE: 0.02816\n",
      "🔁 Iter 8/20 - Best MAE: 0.02816\n",
      "🔁 Iter 9/20 - Best MAE: 0.02816\n",
      "🔁 Iter 10/20 - Best MAE: 0.02816\n",
      "🔁 Iter 11/20 - Best MAE: 0.02816\n",
      "🔁 Iter 12/20 - Best MAE: 0.02816\n",
      "🔁 Iter 13/20 - Best MAE: 0.02816\n",
      "🔁 Iter 14/20 - Best MAE: 0.02816\n",
      "🔁 Iter 15/20 - Best MAE: 0.02816\n",
      "🔁 Iter 16/20 - Best MAE: 0.02816\n",
      "🔁 Iter 17/20 - Best MAE: 0.02816\n",
      "🔁 Iter 18/20 - Best MAE: 0.02816\n",
      "🔁 Iter 19/20 - Best MAE: 0.02816\n",
      "🔁 Iter 20/20 - Best MAE: 0.02816\n",
      "Lasso R2 Score: 0.9837\n"
     ]
    }
   ],
   "source": [
    "from sklearn.linear_model import Lasso\n",
    "\n",
    "# Objective Function for Lasso\n",
    "def fobj_lasso(params, X, y):\n",
    "    alpha = params[0]\n",
    "    max_iter = int(params[1])\n",
    "    tol = params[2]\n",
    "    \n",
    "    model = Lasso(\n",
    "        random_state=42,\n",
    "        alpha=alpha,\n",
    "        max_iter=max_iter,\n",
    "        tol=tol\n",
    "    )\n",
    "    \n",
    "    model.fit(X, y)\n",
    "    preds = model.predict(X)\n",
    "    mae = mean_absolute_error(y, preds)\n",
    "    return mae\n",
    "\n",
    "# Bounds & Dimension\n",
    "lb_lasso = np.array([0.001, 100, 0.0001])\n",
    "ub_lasso = np.array([1.0, 5000, 0.1])\n",
    "dim_lasso = 3\n",
    "n_agents = 15\n",
    "max_iter = 20\n",
    "\n",
    "# Run KOA for Lasso\n",
    "best_pos_lasso, best_mae_lasso = koa_optimizer(\n",
    "    fobj_lasso, lb_lasso, ub_lasso, dim_lasso, n_agents, max_iter,\n",
    "    X_train_shared, y_train_shared\n",
    ")\n",
    "\n",
    "# Train on best parameters\n",
    "best_params_lasso = {\n",
    "    'random_state': 42,\n",
    "    'alpha': best_pos_lasso[0],\n",
    "    'max_iter': int(best_pos_lasso[1]),\n",
    "    'tol': best_pos_lasso[2]\n",
    "}\n",
    "lasso_model = Lasso(**best_params_lasso)\n",
    "lasso_model.fit(X_train_shared, y_train_shared)\n",
    "\n",
    "# Predictions\n",
    "train_preds_lasso = lasso_model.predict(X_train_shared)\n",
    "test_preds_lasso = lasso_model.predict(X_test_shared)\n",
    "#R2 \n",
    "\n",
    "lasso_final_preds = np.concatenate([train_preds_lasso, test_preds_lasso])\n"
   ]
  },
  {
   "cell_type": "markdown",
   "id": "87a9c401",
   "metadata": {},
   "source": [
    "# COA"
   ]
  },
  {
   "cell_type": "code",
   "execution_count": null,
   "id": "77a0333a",
   "metadata": {},
   "outputs": [],
   "source": [
    "import numpy as np\n",
    "\n",
    "def p_obj(x, t, T):\n",
    "    C = 0.2\n",
    "    Q = 3\n",
    "    return C * (1 / (np.sqrt(2 * np.pi) * Q)) * np.exp(-((x - 25)**2) / (2 * Q**2))\n",
    "\n",
    "def coa_optimizer(objective_function, lb, ub, dim, n_agents, max_iter, X, y):\n",
    "    pos = np.random.uniform(low=lb, high=ub, size=(n_agents, dim))\n",
    "    fit = np.array([objective_function(ind, X, y) for ind in pos])\n",
    "\n",
    "    best_idx = np.argmin(fit)\n",
    "    best_pos = pos[best_idx].copy()\n",
    "    best_fit = fit[best_idx]\n",
    "\n",
    "    for t in range(1, max_iter + 1):\n",
    "        C = 2 - (t / max_iter)\n",
    "        temp = np.random.rand() * 15 + 20\n",
    "        xf = (best_pos + pos[best_idx]) / 2\n",
    "        Xfood = best_pos.copy()\n",
    "        new_pos = np.zeros_like(pos)\n",
    "\n",
    "        for i in range(n_agents):\n",
    "            if temp > 30:\n",
    "                if np.random.rand() < 0.5:\n",
    "                    new_pos[i] = pos[i] + C * np.random.rand(dim) * (xf - pos[i])\n",
    "                else:\n",
    "                    z = np.random.randint(n_agents)\n",
    "                    new_pos[i] = pos[i] - pos[z] + xf\n",
    "            else:\n",
    "                F1 = objective_function(Xfood, X, y)\n",
    "                P = 3 * np.random.rand() * fit[i] / F1\n",
    "                if P > 2:\n",
    "                    Xfood = np.exp(-1 / P) * Xfood\n",
    "                    new_pos[i] = (pos[i] +\n",
    "                                  np.cos(2 * np.pi * np.random.rand(dim)) * Xfood * p_obj(temp, t, max_iter) -\n",
    "                                  np.sin(2 * np.pi * np.random.rand(dim)) * Xfood * p_obj(temp, t, max_iter))\n",
    "                else:\n",
    "                    new_pos[i] = (pos[i] - Xfood) * p_obj(temp, t, max_iter) + \\\n",
    "                                 p_obj(temp, t, max_iter) * np.random.rand(dim) * pos[i]\n",
    "\n",
    "            new_pos[i] = np.clip(new_pos[i], lb, ub)\n",
    "\n",
    "        for i in range(n_agents):\n",
    "            new_fit = objective_function(new_pos[i], X, y)\n",
    "            if new_fit < fit[i]:\n",
    "                fit[i] = new_fit\n",
    "                pos[i] = new_pos[i]\n",
    "                if new_fit < best_fit:\n",
    "                    best_fit = new_fit\n",
    "                    best_pos = new_pos[i]\n",
    "\n",
    "        print(f\"🌀 Iter {t}/{max_iter} - Best MAE: {best_fit:.5f}\")\n",
    "\n",
    "    return best_pos, best_fit\n"
   ]
  },
  {
   "cell_type": "code",
   "execution_count": null,
   "id": "ec021437",
   "metadata": {},
   "outputs": [
    {
     "name": "stdout",
     "output_type": "stream",
     "text": [
      "🌀 Iter 1/20 - Best MAE: 0.02356\n",
      "🌀 Iter 2/20 - Best MAE: 0.01048\n",
      "🌀 Iter 3/20 - Best MAE: 0.01048\n",
      "🌀 Iter 4/20 - Best MAE: 0.01048\n",
      "🌀 Iter 5/20 - Best MAE: 0.00680\n",
      "🌀 Iter 6/20 - Best MAE: 0.00680\n",
      "🌀 Iter 7/20 - Best MAE: 0.00680\n",
      "🌀 Iter 8/20 - Best MAE: 0.00680\n"
     ]
    },
    {
     "ename": "KeyboardInterrupt",
     "evalue": "",
     "output_type": "error",
     "traceback": [
      "\u001b[1;31m---------------------------------------------------------------------------\u001b[0m",
      "\u001b[1;31mKeyboardInterrupt\u001b[0m                         Traceback (most recent call last)",
      "Cell \u001b[1;32mIn[63], line 26\u001b[0m\n\u001b[0;32m     23\u001b[0m n_agents \u001b[38;5;241m=\u001b[39m \u001b[38;5;241m10\u001b[39m\n\u001b[0;32m     24\u001b[0m max_iter \u001b[38;5;241m=\u001b[39m \u001b[38;5;241m20\u001b[39m\n\u001b[1;32m---> 26\u001b[0m best_pos_etr, best_mae_etr \u001b[38;5;241m=\u001b[39m \u001b[43mcoa_optimizer\u001b[49m\u001b[43m(\u001b[49m\n\u001b[0;32m     27\u001b[0m \u001b[43m    \u001b[49m\u001b[43mfobj_etr\u001b[49m\u001b[43m,\u001b[49m\u001b[43m \u001b[49m\u001b[43mlb_etr\u001b[49m\u001b[43m,\u001b[49m\u001b[43m \u001b[49m\u001b[43mub_etr\u001b[49m\u001b[43m,\u001b[49m\u001b[43m \u001b[49m\u001b[43mdim_etr\u001b[49m\u001b[43m,\u001b[49m\u001b[43m \u001b[49m\u001b[43mn_agents\u001b[49m\u001b[43m,\u001b[49m\u001b[43m \u001b[49m\u001b[43mmax_iter\u001b[49m\u001b[43m,\u001b[49m\n\u001b[0;32m     28\u001b[0m \u001b[43m    \u001b[49m\u001b[43mX_train_shared\u001b[49m\u001b[43m,\u001b[49m\u001b[43m \u001b[49m\u001b[43my_train_shared\u001b[49m\n\u001b[0;32m     29\u001b[0m \u001b[43m)\u001b[49m\n\u001b[0;32m     31\u001b[0m best_params_etr \u001b[38;5;241m=\u001b[39m {\n\u001b[0;32m     32\u001b[0m     \u001b[38;5;124m'\u001b[39m\u001b[38;5;124mrandom_state\u001b[39m\u001b[38;5;124m'\u001b[39m: \u001b[38;5;241m42\u001b[39m,\n\u001b[0;32m     33\u001b[0m     \u001b[38;5;124m'\u001b[39m\u001b[38;5;124mn_estimators\u001b[39m\u001b[38;5;124m'\u001b[39m: \u001b[38;5;28mint\u001b[39m(best_pos_etr[\u001b[38;5;241m0\u001b[39m]),\n\u001b[0;32m     34\u001b[0m     \u001b[38;5;124m'\u001b[39m\u001b[38;5;124mmax_depth\u001b[39m\u001b[38;5;124m'\u001b[39m: \u001b[38;5;28mint\u001b[39m(best_pos_etr[\u001b[38;5;241m1\u001b[39m]),\n\u001b[0;32m     35\u001b[0m     \u001b[38;5;124m'\u001b[39m\u001b[38;5;124mmin_samples_split\u001b[39m\u001b[38;5;124m'\u001b[39m: \u001b[38;5;28mint\u001b[39m(best_pos_etr[\u001b[38;5;241m2\u001b[39m])\n\u001b[0;32m     36\u001b[0m }\n\u001b[0;32m     37\u001b[0m etr_model \u001b[38;5;241m=\u001b[39m ExtraTreesRegressor(\u001b[38;5;241m*\u001b[39m\u001b[38;5;241m*\u001b[39mbest_params_etr)\n",
      "Cell \u001b[1;32mIn[60], line 45\u001b[0m, in \u001b[0;36mcoa_optimizer\u001b[1;34m(objective_function, lb, ub, dim, n_agents, max_iter, X, y)\u001b[0m\n\u001b[0;32m     42\u001b[0m     new_pos[i] \u001b[38;5;241m=\u001b[39m np\u001b[38;5;241m.\u001b[39mclip(new_pos[i], lb, ub)\n\u001b[0;32m     44\u001b[0m \u001b[38;5;28;01mfor\u001b[39;00m i \u001b[38;5;129;01min\u001b[39;00m \u001b[38;5;28mrange\u001b[39m(n_agents):\n\u001b[1;32m---> 45\u001b[0m     new_fit \u001b[38;5;241m=\u001b[39m \u001b[43mobjective_function\u001b[49m\u001b[43m(\u001b[49m\u001b[43mnew_pos\u001b[49m\u001b[43m[\u001b[49m\u001b[43mi\u001b[49m\u001b[43m]\u001b[49m\u001b[43m,\u001b[49m\u001b[43m \u001b[49m\u001b[43mX\u001b[49m\u001b[43m,\u001b[49m\u001b[43m \u001b[49m\u001b[43my\u001b[49m\u001b[43m)\u001b[49m\n\u001b[0;32m     46\u001b[0m     \u001b[38;5;28;01mif\u001b[39;00m new_fit \u001b[38;5;241m<\u001b[39m fit[i]:\n\u001b[0;32m     47\u001b[0m         fit[i] \u001b[38;5;241m=\u001b[39m new_fit\n",
      "Cell \u001b[1;32mIn[63], line 15\u001b[0m, in \u001b[0;36mfobj_etr\u001b[1;34m(params, X, y)\u001b[0m\n\u001b[0;32m      7\u001b[0m min_samples_split \u001b[38;5;241m=\u001b[39m \u001b[38;5;28mfloat\u001b[39m(params[\u001b[38;5;241m2\u001b[39m])\n\u001b[0;32m      9\u001b[0m model \u001b[38;5;241m=\u001b[39m ExtraTreesRegressor(\n\u001b[0;32m     10\u001b[0m     random_state\u001b[38;5;241m=\u001b[39m\u001b[38;5;241m42\u001b[39m,\n\u001b[0;32m     11\u001b[0m     n_estimators\u001b[38;5;241m=\u001b[39mn_estimators,\n\u001b[0;32m     12\u001b[0m     max_depth\u001b[38;5;241m=\u001b[39mmax_depth,\n\u001b[0;32m     13\u001b[0m     min_samples_split\u001b[38;5;241m=\u001b[39mmin_samples_split\n\u001b[0;32m     14\u001b[0m )\n\u001b[1;32m---> 15\u001b[0m \u001b[43mmodel\u001b[49m\u001b[38;5;241;43m.\u001b[39;49m\u001b[43mfit\u001b[49m\u001b[43m(\u001b[49m\u001b[43mX\u001b[49m\u001b[43m,\u001b[49m\u001b[43m \u001b[49m\u001b[43my\u001b[49m\u001b[43m)\u001b[49m\n\u001b[0;32m     16\u001b[0m preds \u001b[38;5;241m=\u001b[39m model\u001b[38;5;241m.\u001b[39mpredict(X)\n\u001b[0;32m     17\u001b[0m \u001b[38;5;28;01mreturn\u001b[39;00m mean_absolute_error(y, preds)\n",
      "File \u001b[1;32md:\\Python\\Lib\\site-packages\\sklearn\\base.py:1365\u001b[0m, in \u001b[0;36m_fit_context.<locals>.decorator.<locals>.wrapper\u001b[1;34m(estimator, *args, **kwargs)\u001b[0m\n\u001b[0;32m   1358\u001b[0m     estimator\u001b[38;5;241m.\u001b[39m_validate_params()\n\u001b[0;32m   1360\u001b[0m \u001b[38;5;28;01mwith\u001b[39;00m config_context(\n\u001b[0;32m   1361\u001b[0m     skip_parameter_validation\u001b[38;5;241m=\u001b[39m(\n\u001b[0;32m   1362\u001b[0m         prefer_skip_nested_validation \u001b[38;5;129;01mor\u001b[39;00m global_skip_validation\n\u001b[0;32m   1363\u001b[0m     )\n\u001b[0;32m   1364\u001b[0m ):\n\u001b[1;32m-> 1365\u001b[0m     \u001b[38;5;28;01mreturn\u001b[39;00m \u001b[43mfit_method\u001b[49m\u001b[43m(\u001b[49m\u001b[43mestimator\u001b[49m\u001b[43m,\u001b[49m\u001b[43m \u001b[49m\u001b[38;5;241;43m*\u001b[39;49m\u001b[43margs\u001b[49m\u001b[43m,\u001b[49m\u001b[43m \u001b[49m\u001b[38;5;241;43m*\u001b[39;49m\u001b[38;5;241;43m*\u001b[39;49m\u001b[43mkwargs\u001b[49m\u001b[43m)\u001b[49m\n",
      "File \u001b[1;32md:\\Python\\Lib\\site-packages\\sklearn\\ensemble\\_forest.py:486\u001b[0m, in \u001b[0;36mBaseForest.fit\u001b[1;34m(self, X, y, sample_weight)\u001b[0m\n\u001b[0;32m    475\u001b[0m trees \u001b[38;5;241m=\u001b[39m [\n\u001b[0;32m    476\u001b[0m     \u001b[38;5;28mself\u001b[39m\u001b[38;5;241m.\u001b[39m_make_estimator(append\u001b[38;5;241m=\u001b[39m\u001b[38;5;28;01mFalse\u001b[39;00m, random_state\u001b[38;5;241m=\u001b[39mrandom_state)\n\u001b[0;32m    477\u001b[0m     \u001b[38;5;28;01mfor\u001b[39;00m i \u001b[38;5;129;01min\u001b[39;00m \u001b[38;5;28mrange\u001b[39m(n_more_estimators)\n\u001b[0;32m    478\u001b[0m ]\n\u001b[0;32m    480\u001b[0m \u001b[38;5;66;03m# Parallel loop: we prefer the threading backend as the Cython code\u001b[39;00m\n\u001b[0;32m    481\u001b[0m \u001b[38;5;66;03m# for fitting the trees is internally releasing the Python GIL\u001b[39;00m\n\u001b[0;32m    482\u001b[0m \u001b[38;5;66;03m# making threading more efficient than multiprocessing in\u001b[39;00m\n\u001b[0;32m    483\u001b[0m \u001b[38;5;66;03m# that case. However, for joblib 0.12+ we respect any\u001b[39;00m\n\u001b[0;32m    484\u001b[0m \u001b[38;5;66;03m# parallel_backend contexts set at a higher level,\u001b[39;00m\n\u001b[0;32m    485\u001b[0m \u001b[38;5;66;03m# since correctness does not rely on using threads.\u001b[39;00m\n\u001b[1;32m--> 486\u001b[0m trees \u001b[38;5;241m=\u001b[39m \u001b[43mParallel\u001b[49m\u001b[43m(\u001b[49m\n\u001b[0;32m    487\u001b[0m \u001b[43m    \u001b[49m\u001b[43mn_jobs\u001b[49m\u001b[38;5;241;43m=\u001b[39;49m\u001b[38;5;28;43mself\u001b[39;49m\u001b[38;5;241;43m.\u001b[39;49m\u001b[43mn_jobs\u001b[49m\u001b[43m,\u001b[49m\n\u001b[0;32m    488\u001b[0m \u001b[43m    \u001b[49m\u001b[43mverbose\u001b[49m\u001b[38;5;241;43m=\u001b[39;49m\u001b[38;5;28;43mself\u001b[39;49m\u001b[38;5;241;43m.\u001b[39;49m\u001b[43mverbose\u001b[49m\u001b[43m,\u001b[49m\n\u001b[0;32m    489\u001b[0m \u001b[43m    \u001b[49m\u001b[43mprefer\u001b[49m\u001b[38;5;241;43m=\u001b[39;49m\u001b[38;5;124;43m\"\u001b[39;49m\u001b[38;5;124;43mthreads\u001b[39;49m\u001b[38;5;124;43m\"\u001b[39;49m\u001b[43m,\u001b[49m\n\u001b[0;32m    490\u001b[0m \u001b[43m\u001b[49m\u001b[43m)\u001b[49m\u001b[43m(\u001b[49m\n\u001b[0;32m    491\u001b[0m \u001b[43m    \u001b[49m\u001b[43mdelayed\u001b[49m\u001b[43m(\u001b[49m\u001b[43m_parallel_build_trees\u001b[49m\u001b[43m)\u001b[49m\u001b[43m(\u001b[49m\n\u001b[0;32m    492\u001b[0m \u001b[43m        \u001b[49m\u001b[43mt\u001b[49m\u001b[43m,\u001b[49m\n\u001b[0;32m    493\u001b[0m \u001b[43m        \u001b[49m\u001b[38;5;28;43mself\u001b[39;49m\u001b[38;5;241;43m.\u001b[39;49m\u001b[43mbootstrap\u001b[49m\u001b[43m,\u001b[49m\n\u001b[0;32m    494\u001b[0m \u001b[43m        \u001b[49m\u001b[43mX\u001b[49m\u001b[43m,\u001b[49m\n\u001b[0;32m    495\u001b[0m \u001b[43m        \u001b[49m\u001b[43my\u001b[49m\u001b[43m,\u001b[49m\n\u001b[0;32m    496\u001b[0m \u001b[43m        \u001b[49m\u001b[43msample_weight\u001b[49m\u001b[43m,\u001b[49m\n\u001b[0;32m    497\u001b[0m \u001b[43m        \u001b[49m\u001b[43mi\u001b[49m\u001b[43m,\u001b[49m\n\u001b[0;32m    498\u001b[0m \u001b[43m        \u001b[49m\u001b[38;5;28;43mlen\u001b[39;49m\u001b[43m(\u001b[49m\u001b[43mtrees\u001b[49m\u001b[43m)\u001b[49m\u001b[43m,\u001b[49m\n\u001b[0;32m    499\u001b[0m \u001b[43m        \u001b[49m\u001b[43mverbose\u001b[49m\u001b[38;5;241;43m=\u001b[39;49m\u001b[38;5;28;43mself\u001b[39;49m\u001b[38;5;241;43m.\u001b[39;49m\u001b[43mverbose\u001b[49m\u001b[43m,\u001b[49m\n\u001b[0;32m    500\u001b[0m \u001b[43m        \u001b[49m\u001b[43mclass_weight\u001b[49m\u001b[38;5;241;43m=\u001b[39;49m\u001b[38;5;28;43mself\u001b[39;49m\u001b[38;5;241;43m.\u001b[39;49m\u001b[43mclass_weight\u001b[49m\u001b[43m,\u001b[49m\n\u001b[0;32m    501\u001b[0m \u001b[43m        \u001b[49m\u001b[43mn_samples_bootstrap\u001b[49m\u001b[38;5;241;43m=\u001b[39;49m\u001b[43mn_samples_bootstrap\u001b[49m\u001b[43m,\u001b[49m\n\u001b[0;32m    502\u001b[0m \u001b[43m        \u001b[49m\u001b[43mmissing_values_in_feature_mask\u001b[49m\u001b[38;5;241;43m=\u001b[39;49m\u001b[43mmissing_values_in_feature_mask\u001b[49m\u001b[43m,\u001b[49m\n\u001b[0;32m    503\u001b[0m \u001b[43m    \u001b[49m\u001b[43m)\u001b[49m\n\u001b[0;32m    504\u001b[0m \u001b[43m    \u001b[49m\u001b[38;5;28;43;01mfor\u001b[39;49;00m\u001b[43m \u001b[49m\u001b[43mi\u001b[49m\u001b[43m,\u001b[49m\u001b[43m \u001b[49m\u001b[43mt\u001b[49m\u001b[43m \u001b[49m\u001b[38;5;129;43;01min\u001b[39;49;00m\u001b[43m \u001b[49m\u001b[38;5;28;43menumerate\u001b[39;49m\u001b[43m(\u001b[49m\u001b[43mtrees\u001b[49m\u001b[43m)\u001b[49m\n\u001b[0;32m    505\u001b[0m \u001b[43m\u001b[49m\u001b[43m)\u001b[49m\n\u001b[0;32m    507\u001b[0m \u001b[38;5;66;03m# Collect newly grown trees\u001b[39;00m\n\u001b[0;32m    508\u001b[0m \u001b[38;5;28mself\u001b[39m\u001b[38;5;241m.\u001b[39mestimators_\u001b[38;5;241m.\u001b[39mextend(trees)\n",
      "File \u001b[1;32md:\\Python\\Lib\\site-packages\\sklearn\\utils\\parallel.py:82\u001b[0m, in \u001b[0;36mParallel.__call__\u001b[1;34m(self, iterable)\u001b[0m\n\u001b[0;32m     73\u001b[0m warning_filters \u001b[38;5;241m=\u001b[39m warnings\u001b[38;5;241m.\u001b[39mfilters\n\u001b[0;32m     74\u001b[0m iterable_with_config_and_warning_filters \u001b[38;5;241m=\u001b[39m (\n\u001b[0;32m     75\u001b[0m     (\n\u001b[0;32m     76\u001b[0m         _with_config_and_warning_filters(delayed_func, config, warning_filters),\n\u001b[1;32m   (...)\u001b[0m\n\u001b[0;32m     80\u001b[0m     \u001b[38;5;28;01mfor\u001b[39;00m delayed_func, args, kwargs \u001b[38;5;129;01min\u001b[39;00m iterable\n\u001b[0;32m     81\u001b[0m )\n\u001b[1;32m---> 82\u001b[0m \u001b[38;5;28;01mreturn\u001b[39;00m \u001b[38;5;28;43msuper\u001b[39;49m\u001b[43m(\u001b[49m\u001b[43m)\u001b[49m\u001b[38;5;241;43m.\u001b[39;49m\u001b[38;5;21;43m__call__\u001b[39;49m\u001b[43m(\u001b[49m\u001b[43miterable_with_config_and_warning_filters\u001b[49m\u001b[43m)\u001b[49m\n",
      "File \u001b[1;32md:\\Python\\Lib\\site-packages\\joblib\\parallel.py:1986\u001b[0m, in \u001b[0;36mParallel.__call__\u001b[1;34m(self, iterable)\u001b[0m\n\u001b[0;32m   1984\u001b[0m     output \u001b[38;5;241m=\u001b[39m \u001b[38;5;28mself\u001b[39m\u001b[38;5;241m.\u001b[39m_get_sequential_output(iterable)\n\u001b[0;32m   1985\u001b[0m     \u001b[38;5;28mnext\u001b[39m(output)\n\u001b[1;32m-> 1986\u001b[0m     \u001b[38;5;28;01mreturn\u001b[39;00m output \u001b[38;5;28;01mif\u001b[39;00m \u001b[38;5;28mself\u001b[39m\u001b[38;5;241m.\u001b[39mreturn_generator \u001b[38;5;28;01melse\u001b[39;00m \u001b[38;5;28;43mlist\u001b[39;49m\u001b[43m(\u001b[49m\u001b[43moutput\u001b[49m\u001b[43m)\u001b[49m\n\u001b[0;32m   1988\u001b[0m \u001b[38;5;66;03m# Let's create an ID that uniquely identifies the current call. If the\u001b[39;00m\n\u001b[0;32m   1989\u001b[0m \u001b[38;5;66;03m# call is interrupted early and that the same instance is immediately\u001b[39;00m\n\u001b[0;32m   1990\u001b[0m \u001b[38;5;66;03m# reused, this id will be used to prevent workers that were\u001b[39;00m\n\u001b[0;32m   1991\u001b[0m \u001b[38;5;66;03m# concurrently finalizing a task from the previous call to run the\u001b[39;00m\n\u001b[0;32m   1992\u001b[0m \u001b[38;5;66;03m# callback.\u001b[39;00m\n\u001b[0;32m   1993\u001b[0m \u001b[38;5;28;01mwith\u001b[39;00m \u001b[38;5;28mself\u001b[39m\u001b[38;5;241m.\u001b[39m_lock:\n",
      "File \u001b[1;32md:\\Python\\Lib\\site-packages\\joblib\\parallel.py:1914\u001b[0m, in \u001b[0;36mParallel._get_sequential_output\u001b[1;34m(self, iterable)\u001b[0m\n\u001b[0;32m   1912\u001b[0m \u001b[38;5;28mself\u001b[39m\u001b[38;5;241m.\u001b[39mn_dispatched_batches \u001b[38;5;241m+\u001b[39m\u001b[38;5;241m=\u001b[39m \u001b[38;5;241m1\u001b[39m\n\u001b[0;32m   1913\u001b[0m \u001b[38;5;28mself\u001b[39m\u001b[38;5;241m.\u001b[39mn_dispatched_tasks \u001b[38;5;241m+\u001b[39m\u001b[38;5;241m=\u001b[39m \u001b[38;5;241m1\u001b[39m\n\u001b[1;32m-> 1914\u001b[0m res \u001b[38;5;241m=\u001b[39m \u001b[43mfunc\u001b[49m\u001b[43m(\u001b[49m\u001b[38;5;241;43m*\u001b[39;49m\u001b[43margs\u001b[49m\u001b[43m,\u001b[49m\u001b[43m \u001b[49m\u001b[38;5;241;43m*\u001b[39;49m\u001b[38;5;241;43m*\u001b[39;49m\u001b[43mkwargs\u001b[49m\u001b[43m)\u001b[49m\n\u001b[0;32m   1915\u001b[0m \u001b[38;5;28mself\u001b[39m\u001b[38;5;241m.\u001b[39mn_completed_tasks \u001b[38;5;241m+\u001b[39m\u001b[38;5;241m=\u001b[39m \u001b[38;5;241m1\u001b[39m\n\u001b[0;32m   1916\u001b[0m \u001b[38;5;28mself\u001b[39m\u001b[38;5;241m.\u001b[39mprint_progress()\n",
      "File \u001b[1;32md:\\Python\\Lib\\site-packages\\sklearn\\utils\\parallel.py:147\u001b[0m, in \u001b[0;36m_FuncWrapper.__call__\u001b[1;34m(self, *args, **kwargs)\u001b[0m\n\u001b[0;32m    145\u001b[0m \u001b[38;5;28;01mwith\u001b[39;00m config_context(\u001b[38;5;241m*\u001b[39m\u001b[38;5;241m*\u001b[39mconfig), warnings\u001b[38;5;241m.\u001b[39mcatch_warnings():\n\u001b[0;32m    146\u001b[0m     warnings\u001b[38;5;241m.\u001b[39mfilters \u001b[38;5;241m=\u001b[39m warning_filters\n\u001b[1;32m--> 147\u001b[0m     \u001b[38;5;28;01mreturn\u001b[39;00m \u001b[38;5;28;43mself\u001b[39;49m\u001b[38;5;241;43m.\u001b[39;49m\u001b[43mfunction\u001b[49m\u001b[43m(\u001b[49m\u001b[38;5;241;43m*\u001b[39;49m\u001b[43margs\u001b[49m\u001b[43m,\u001b[49m\u001b[43m \u001b[49m\u001b[38;5;241;43m*\u001b[39;49m\u001b[38;5;241;43m*\u001b[39;49m\u001b[43mkwargs\u001b[49m\u001b[43m)\u001b[49m\n",
      "File \u001b[1;32md:\\Python\\Lib\\site-packages\\sklearn\\ensemble\\_forest.py:196\u001b[0m, in \u001b[0;36m_parallel_build_trees\u001b[1;34m(tree, bootstrap, X, y, sample_weight, tree_idx, n_trees, verbose, class_weight, n_samples_bootstrap, missing_values_in_feature_mask)\u001b[0m\n\u001b[0;32m    188\u001b[0m     tree\u001b[38;5;241m.\u001b[39m_fit(\n\u001b[0;32m    189\u001b[0m         X,\n\u001b[0;32m    190\u001b[0m         y,\n\u001b[1;32m   (...)\u001b[0m\n\u001b[0;32m    193\u001b[0m         missing_values_in_feature_mask\u001b[38;5;241m=\u001b[39mmissing_values_in_feature_mask,\n\u001b[0;32m    194\u001b[0m     )\n\u001b[0;32m    195\u001b[0m \u001b[38;5;28;01melse\u001b[39;00m:\n\u001b[1;32m--> 196\u001b[0m     \u001b[43mtree\u001b[49m\u001b[38;5;241;43m.\u001b[39;49m\u001b[43m_fit\u001b[49m\u001b[43m(\u001b[49m\n\u001b[0;32m    197\u001b[0m \u001b[43m        \u001b[49m\u001b[43mX\u001b[49m\u001b[43m,\u001b[49m\n\u001b[0;32m    198\u001b[0m \u001b[43m        \u001b[49m\u001b[43my\u001b[49m\u001b[43m,\u001b[49m\n\u001b[0;32m    199\u001b[0m \u001b[43m        \u001b[49m\u001b[43msample_weight\u001b[49m\u001b[38;5;241;43m=\u001b[39;49m\u001b[43msample_weight\u001b[49m\u001b[43m,\u001b[49m\n\u001b[0;32m    200\u001b[0m \u001b[43m        \u001b[49m\u001b[43mcheck_input\u001b[49m\u001b[38;5;241;43m=\u001b[39;49m\u001b[38;5;28;43;01mFalse\u001b[39;49;00m\u001b[43m,\u001b[49m\n\u001b[0;32m    201\u001b[0m \u001b[43m        \u001b[49m\u001b[43mmissing_values_in_feature_mask\u001b[49m\u001b[38;5;241;43m=\u001b[39;49m\u001b[43mmissing_values_in_feature_mask\u001b[49m\u001b[43m,\u001b[49m\n\u001b[0;32m    202\u001b[0m \u001b[43m    \u001b[49m\u001b[43m)\u001b[49m\n\u001b[0;32m    204\u001b[0m \u001b[38;5;28;01mreturn\u001b[39;00m tree\n",
      "File \u001b[1;32md:\\Python\\Lib\\site-packages\\sklearn\\tree\\_classes.py:472\u001b[0m, in \u001b[0;36mBaseDecisionTree._fit\u001b[1;34m(self, X, y, sample_weight, check_input, missing_values_in_feature_mask)\u001b[0m\n\u001b[0;32m    461\u001b[0m \u001b[38;5;28;01melse\u001b[39;00m:\n\u001b[0;32m    462\u001b[0m     builder \u001b[38;5;241m=\u001b[39m BestFirstTreeBuilder(\n\u001b[0;32m    463\u001b[0m         splitter,\n\u001b[0;32m    464\u001b[0m         min_samples_split,\n\u001b[1;32m   (...)\u001b[0m\n\u001b[0;32m    469\u001b[0m         \u001b[38;5;28mself\u001b[39m\u001b[38;5;241m.\u001b[39mmin_impurity_decrease,\n\u001b[0;32m    470\u001b[0m     )\n\u001b[1;32m--> 472\u001b[0m \u001b[43mbuilder\u001b[49m\u001b[38;5;241;43m.\u001b[39;49m\u001b[43mbuild\u001b[49m\u001b[43m(\u001b[49m\u001b[38;5;28;43mself\u001b[39;49m\u001b[38;5;241;43m.\u001b[39;49m\u001b[43mtree_\u001b[49m\u001b[43m,\u001b[49m\u001b[43m \u001b[49m\u001b[43mX\u001b[49m\u001b[43m,\u001b[49m\u001b[43m \u001b[49m\u001b[43my\u001b[49m\u001b[43m,\u001b[49m\u001b[43m \u001b[49m\u001b[43msample_weight\u001b[49m\u001b[43m,\u001b[49m\u001b[43m \u001b[49m\u001b[43mmissing_values_in_feature_mask\u001b[49m\u001b[43m)\u001b[49m\n\u001b[0;32m    474\u001b[0m \u001b[38;5;28;01mif\u001b[39;00m \u001b[38;5;28mself\u001b[39m\u001b[38;5;241m.\u001b[39mn_outputs_ \u001b[38;5;241m==\u001b[39m \u001b[38;5;241m1\u001b[39m \u001b[38;5;129;01mand\u001b[39;00m is_classifier(\u001b[38;5;28mself\u001b[39m):\n\u001b[0;32m    475\u001b[0m     \u001b[38;5;28mself\u001b[39m\u001b[38;5;241m.\u001b[39mn_classes_ \u001b[38;5;241m=\u001b[39m \u001b[38;5;28mself\u001b[39m\u001b[38;5;241m.\u001b[39mn_classes_[\u001b[38;5;241m0\u001b[39m]\n",
      "\u001b[1;31mKeyboardInterrupt\u001b[0m: "
     ]
    }
   ],
   "source": [
    "from sklearn.ensemble import ExtraTreesRegressor\n",
    "from sklearn.metrics import mean_absolute_error\n",
    "\n",
    "def fobj_etr(params, X, y):\n",
    "    n_estimators = int(params[0])\n",
    "    max_depth = int(params[1])\n",
    "    min_samples_split = float(params[2])\n",
    "\n",
    "    model = ExtraTreesRegressor(\n",
    "        random_state=42,\n",
    "        n_estimators=n_estimators,\n",
    "        max_depth=max_depth,\n",
    "        min_samples_split=min_samples_split\n",
    "    )\n",
    "    model.fit(X, y)\n",
    "    preds = model.predict(X)\n",
    "    return mean_absolute_error(y, preds)\n",
    "\n",
    "lb_etr = np.array([50, 2, 0.01])  # make min_samples_split start at 2\n",
    "\n",
    "ub_etr = np.array([150, 10, 1.0])\n",
    "dim_etr = 3\n",
    "n_agents = 10\n",
    "max_iter = 20\n",
    "\n",
    "best_pos_etr, best_mae_etr = coa_optimizer(\n",
    "    fobj_etr, lb_etr, ub_etr, dim_etr, n_agents, max_iter,\n",
    "    X_train_shared, y_train_shared\n",
    ")\n",
    "\n",
    "best_params_etr = {\n",
    "    'random_state': 42,\n",
    "    'n_estimators': int(best_pos_etr[0]),\n",
    "    'max_depth': int(best_pos_etr[1]),\n",
    "    'min_samples_split': int(best_pos_etr[2])\n",
    "}\n",
    "etr_model = ExtraTreesRegressor(**best_params_etr)\n",
    "etr_model.fit(X_train_shared, y_train_shared)\n",
    "\n",
    "train_preds_etr = etr_model.predict(X_train_shared)\n",
    "test_preds_etr = etr_model.predict(X_test_shared)\n",
    "etr_final_preds = np.concatenate([train_preds_etr, test_preds_etr])\n"
   ]
  },
  {
   "cell_type": "code",
   "execution_count": null,
   "id": "2b5f7834",
   "metadata": {},
   "outputs": [
    {
     "name": "stdout",
     "output_type": "stream",
     "text": [
      "🌀 Iter 1/20 - Best MAE: 0.01739\n",
      "🌀 Iter 2/20 - Best MAE: 0.01739\n",
      "🌀 Iter 3/20 - Best MAE: 0.01739\n",
      "🌀 Iter 4/20 - Best MAE: 0.01739\n",
      "🌀 Iter 5/20 - Best MAE: 0.01739\n",
      "🌀 Iter 6/20 - Best MAE: 0.01739\n",
      "🌀 Iter 7/20 - Best MAE: 0.01739\n",
      "🌀 Iter 8/20 - Best MAE: 0.01739\n",
      "🌀 Iter 9/20 - Best MAE: 0.01739\n",
      "🌀 Iter 10/20 - Best MAE: 0.01739\n",
      "🌀 Iter 11/20 - Best MAE: 0.01739\n",
      "🌀 Iter 12/20 - Best MAE: 0.01739\n",
      "🌀 Iter 13/20 - Best MAE: 0.01739\n",
      "🌀 Iter 14/20 - Best MAE: 0.01739\n",
      "🌀 Iter 15/20 - Best MAE: 0.01739\n",
      "🌀 Iter 16/20 - Best MAE: 0.01739\n",
      "🌀 Iter 17/20 - Best MAE: 0.01739\n",
      "🌀 Iter 18/20 - Best MAE: 0.01739\n",
      "🌀 Iter 19/20 - Best MAE: 0.01739\n",
      "🌀 Iter 20/20 - Best MAE: 0.01739\n"
     ]
    }
   ],
   "source": [
    "from sklearn.linear_model import Lasso\n",
    "\n",
    "def fobj_lasso(params, X, y):\n",
    "    alpha = params[0]\n",
    "    max_iter = int(params[1])\n",
    "    tol = params[2]\n",
    "\n",
    "    model = Lasso(\n",
    "        random_state=42,\n",
    "        alpha=alpha,\n",
    "        max_iter=max_iter,\n",
    "        tol=tol\n",
    "    )\n",
    "    model.fit(X, y)\n",
    "    preds = model.predict(X)\n",
    "    return mean_absolute_error(y, preds)\n",
    "\n",
    "lb_lasso = np.array([0.001, 100, 0.0001])\n",
    "ub_lasso = np.array([1.0, 5000, 0.1])\n",
    "dim_lasso = 3\n",
    "\n",
    "best_pos_lasso, best_mae_lasso = coa_optimizer(\n",
    "    fobj_lasso, lb_lasso, ub_lasso, dim_lasso, 15, 20,\n",
    "    X_train_shared, y_train_shared\n",
    ")\n",
    "\n",
    "best_params_lasso = {\n",
    "    'random_state': 42,\n",
    "    'alpha': best_pos_lasso[0],\n",
    "    'max_iter': int(best_pos_lasso[1]),\n",
    "    'tol': best_pos_lasso[2]\n",
    "}\n",
    "lasso_model = Lasso(**best_params_lasso)\n",
    "lasso_model.fit(X_train_shared, y_train_shared)\n",
    "\n",
    "train_preds_lasso = lasso_model.predict(X_train_shared)\n",
    "test_preds_lasso = lasso_model.predict(X_test_shared)\n",
    "lasso_final_preds = np.concatenate([train_preds_lasso, test_preds_lasso])\n"
   ]
  },
  {
   "cell_type": "markdown",
   "id": "ecb71c0b",
   "metadata": {},
   "source": [
    "# @@@@@@@@@@@@@@@@@@@@@@@@@@@@@@@@@@@@@@@@@@@@@@@@@@@@@@@@@@@@@@@@@@@@@@@@@@@@@@@@@@@@@@@@@@@@@@@@@@@@@@@@@@"
   ]
  },
  {
   "cell_type": "code",
   "execution_count": null,
   "id": "43f60421",
   "metadata": {},
   "outputs": [
    {
     "name": "stdout",
     "output_type": "stream",
     "text": [
      "\n",
      "🔹 Optimizing Extra Trees Regressor with KOA...\n"
     ]
    },
    {
     "ename": "TypeError",
     "evalue": "'<' not supported between instances of 'NoneType' and 'NoneType'",
     "output_type": "error",
     "traceback": [
      "\u001b[1;31m---------------------------------------------------------------------------\u001b[0m",
      "\u001b[1;31mTypeError\u001b[0m                                 Traceback (most recent call last)",
      "File \u001b[1;32md:\\Python\\Lib\\site-packages\\numpy\\_core\\fromnumeric.py:57\u001b[0m, in \u001b[0;36m_wrapfunc\u001b[1;34m(obj, method, *args, **kwds)\u001b[0m\n\u001b[0;32m     56\u001b[0m \u001b[38;5;28;01mtry\u001b[39;00m:\n\u001b[1;32m---> 57\u001b[0m     \u001b[38;5;28;01mreturn\u001b[39;00m \u001b[43mbound\u001b[49m\u001b[43m(\u001b[49m\u001b[38;5;241;43m*\u001b[39;49m\u001b[43margs\u001b[49m\u001b[43m,\u001b[49m\u001b[43m \u001b[49m\u001b[38;5;241;43m*\u001b[39;49m\u001b[38;5;241;43m*\u001b[39;49m\u001b[43mkwds\u001b[49m\u001b[43m)\u001b[49m\n\u001b[0;32m     58\u001b[0m \u001b[38;5;28;01mexcept\u001b[39;00m \u001b[38;5;167;01mTypeError\u001b[39;00m:\n\u001b[0;32m     59\u001b[0m     \u001b[38;5;66;03m# A TypeError occurs if the object does have such a method in its\u001b[39;00m\n\u001b[0;32m     60\u001b[0m     \u001b[38;5;66;03m# class, but its signature is not identical to that of NumPy's. This\u001b[39;00m\n\u001b[1;32m   (...)\u001b[0m\n\u001b[0;32m     64\u001b[0m     \u001b[38;5;66;03m# Call _wrapit from within the except clause to ensure a potential\u001b[39;00m\n\u001b[0;32m     65\u001b[0m     \u001b[38;5;66;03m# exception has a traceback chain.\u001b[39;00m\n",
      "\u001b[1;31mTypeError\u001b[0m: '<' not supported between instances of 'NoneType' and 'NoneType'",
      "\nDuring handling of the above exception, another exception occurred:\n",
      "\u001b[1;31mTypeError\u001b[0m                                 Traceback (most recent call last)",
      "Cell \u001b[1;32mIn[10], line 2\u001b[0m\n\u001b[0;32m      1\u001b[0m \u001b[38;5;28mprint\u001b[39m(\u001b[38;5;124m\"\u001b[39m\u001b[38;5;130;01m\\n\u001b[39;00m\u001b[38;5;124m🔹 Optimizing Extra Trees Regressor with KOA...\u001b[39m\u001b[38;5;124m\"\u001b[39m)\n\u001b[1;32m----> 2\u001b[0m best_params_koa_et, best_mae_koa_et \u001b[38;5;241m=\u001b[39m \u001b[43mkoa_optimizer\u001b[49m\u001b[43m(\u001b[49m\u001b[43mobjective_et\u001b[49m\u001b[43m,\u001b[49m\u001b[43m \u001b[49m\u001b[43mlb_et\u001b[49m\u001b[43m,\u001b[49m\u001b[43m \u001b[49m\u001b[43mub_et\u001b[49m\u001b[43m,\u001b[49m\u001b[43m \u001b[49m\u001b[43mdim_et\u001b[49m\u001b[43m,\u001b[49m\u001b[43m \u001b[49m\u001b[43mn_agents\u001b[49m\u001b[43m,\u001b[49m\u001b[43m \u001b[49m\u001b[43mmax_iter\u001b[49m\u001b[43m,\u001b[49m\u001b[43m \u001b[49m\u001b[43mX\u001b[49m\u001b[43m,\u001b[49m\u001b[43m \u001b[49m\u001b[43my\u001b[49m\u001b[43m)\u001b[49m\n\u001b[0;32m      3\u001b[0m \u001b[38;5;28mprint\u001b[39m(\u001b[38;5;124mf\u001b[39m\u001b[38;5;124m\"\u001b[39m\u001b[38;5;124mETR + KOA Best params: \u001b[39m\u001b[38;5;132;01m{\u001b[39;00mbest_params_koa_et\u001b[38;5;132;01m}\u001b[39;00m\u001b[38;5;124m\"\u001b[39m)\n\u001b[0;32m      4\u001b[0m \u001b[38;5;28mprint\u001b[39m(\u001b[38;5;124mf\u001b[39m\u001b[38;5;124m\"\u001b[39m\u001b[38;5;124mETR + KOA Best MAE: \u001b[39m\u001b[38;5;132;01m{\u001b[39;00mbest_mae_koa_et\u001b[38;5;132;01m:\u001b[39;00m\u001b[38;5;124m.5f\u001b[39m\u001b[38;5;132;01m}\u001b[39;00m\u001b[38;5;124m\"\u001b[39m)\n",
      "File \u001b[1;32md:\\ML\\Project-2\\src\\Optimiser\\KOA\\koa_optimizer.py:8\u001b[0m, in \u001b[0;36mkoa_optimizer\u001b[1;34m(objective_function, lb, ub, dim, n_agents, max_iter, X, y)\u001b[0m\n\u001b[0;32m      5\u001b[0m pos \u001b[38;5;241m=\u001b[39m np\u001b[38;5;241m.\u001b[39mrandom\u001b[38;5;241m.\u001b[39muniform(low\u001b[38;5;241m=\u001b[39mlb, high\u001b[38;5;241m=\u001b[39mub, size\u001b[38;5;241m=\u001b[39m(n_agents, dim))\n\u001b[0;32m      6\u001b[0m fit \u001b[38;5;241m=\u001b[39m np\u001b[38;5;241m.\u001b[39marray([objective_function(ind, X, y) \u001b[38;5;28;01mfor\u001b[39;00m ind \u001b[38;5;129;01min\u001b[39;00m pos])\n\u001b[1;32m----> 8\u001b[0m best_idx \u001b[38;5;241m=\u001b[39m \u001b[43mnp\u001b[49m\u001b[38;5;241;43m.\u001b[39;49m\u001b[43margmin\u001b[49m\u001b[43m(\u001b[49m\u001b[43mfit\u001b[49m\u001b[43m)\u001b[49m\n\u001b[0;32m      9\u001b[0m best_pos \u001b[38;5;241m=\u001b[39m pos[best_idx]\u001b[38;5;241m.\u001b[39mcopy()\n\u001b[0;32m     10\u001b[0m best_fit \u001b[38;5;241m=\u001b[39m fit[best_idx]\n",
      "File \u001b[1;32md:\\Python\\Lib\\site-packages\\numpy\\_core\\fromnumeric.py:1439\u001b[0m, in \u001b[0;36margmin\u001b[1;34m(a, axis, out, keepdims)\u001b[0m\n\u001b[0;32m   1350\u001b[0m \u001b[38;5;250m\u001b[39m\u001b[38;5;124;03m\"\"\"\u001b[39;00m\n\u001b[0;32m   1351\u001b[0m \u001b[38;5;124;03mReturns the indices of the minimum values along an axis.\u001b[39;00m\n\u001b[0;32m   1352\u001b[0m \n\u001b[1;32m   (...)\u001b[0m\n\u001b[0;32m   1436\u001b[0m \u001b[38;5;124;03m(2, 1, 4)\u001b[39;00m\n\u001b[0;32m   1437\u001b[0m \u001b[38;5;124;03m\"\"\"\u001b[39;00m\n\u001b[0;32m   1438\u001b[0m kwds \u001b[38;5;241m=\u001b[39m {\u001b[38;5;124m'\u001b[39m\u001b[38;5;124mkeepdims\u001b[39m\u001b[38;5;124m'\u001b[39m: keepdims} \u001b[38;5;28;01mif\u001b[39;00m keepdims \u001b[38;5;129;01mis\u001b[39;00m \u001b[38;5;129;01mnot\u001b[39;00m np\u001b[38;5;241m.\u001b[39m_NoValue \u001b[38;5;28;01melse\u001b[39;00m {}\n\u001b[1;32m-> 1439\u001b[0m \u001b[38;5;28;01mreturn\u001b[39;00m \u001b[43m_wrapfunc\u001b[49m\u001b[43m(\u001b[49m\u001b[43ma\u001b[49m\u001b[43m,\u001b[49m\u001b[43m \u001b[49m\u001b[38;5;124;43m'\u001b[39;49m\u001b[38;5;124;43margmin\u001b[39;49m\u001b[38;5;124;43m'\u001b[39;49m\u001b[43m,\u001b[49m\u001b[43m \u001b[49m\u001b[43maxis\u001b[49m\u001b[38;5;241;43m=\u001b[39;49m\u001b[43maxis\u001b[49m\u001b[43m,\u001b[49m\u001b[43m \u001b[49m\u001b[43mout\u001b[49m\u001b[38;5;241;43m=\u001b[39;49m\u001b[43mout\u001b[49m\u001b[43m,\u001b[49m\u001b[43m \u001b[49m\u001b[38;5;241;43m*\u001b[39;49m\u001b[38;5;241;43m*\u001b[39;49m\u001b[43mkwds\u001b[49m\u001b[43m)\u001b[49m\n",
      "File \u001b[1;32md:\\Python\\Lib\\site-packages\\numpy\\_core\\fromnumeric.py:66\u001b[0m, in \u001b[0;36m_wrapfunc\u001b[1;34m(obj, method, *args, **kwds)\u001b[0m\n\u001b[0;32m     57\u001b[0m     \u001b[38;5;28;01mreturn\u001b[39;00m bound(\u001b[38;5;241m*\u001b[39margs, \u001b[38;5;241m*\u001b[39m\u001b[38;5;241m*\u001b[39mkwds)\n\u001b[0;32m     58\u001b[0m \u001b[38;5;28;01mexcept\u001b[39;00m \u001b[38;5;167;01mTypeError\u001b[39;00m:\n\u001b[0;32m     59\u001b[0m     \u001b[38;5;66;03m# A TypeError occurs if the object does have such a method in its\u001b[39;00m\n\u001b[0;32m     60\u001b[0m     \u001b[38;5;66;03m# class, but its signature is not identical to that of NumPy's. This\u001b[39;00m\n\u001b[1;32m   (...)\u001b[0m\n\u001b[0;32m     64\u001b[0m     \u001b[38;5;66;03m# Call _wrapit from within the except clause to ensure a potential\u001b[39;00m\n\u001b[0;32m     65\u001b[0m     \u001b[38;5;66;03m# exception has a traceback chain.\u001b[39;00m\n\u001b[1;32m---> 66\u001b[0m     \u001b[38;5;28;01mreturn\u001b[39;00m \u001b[43m_wrapit\u001b[49m\u001b[43m(\u001b[49m\u001b[43mobj\u001b[49m\u001b[43m,\u001b[49m\u001b[43m \u001b[49m\u001b[43mmethod\u001b[49m\u001b[43m,\u001b[49m\u001b[43m \u001b[49m\u001b[38;5;241;43m*\u001b[39;49m\u001b[43margs\u001b[49m\u001b[43m,\u001b[49m\u001b[43m \u001b[49m\u001b[38;5;241;43m*\u001b[39;49m\u001b[38;5;241;43m*\u001b[39;49m\u001b[43mkwds\u001b[49m\u001b[43m)\u001b[49m\n",
      "File \u001b[1;32md:\\Python\\Lib\\site-packages\\numpy\\_core\\fromnumeric.py:46\u001b[0m, in \u001b[0;36m_wrapit\u001b[1;34m(obj, method, *args, **kwds)\u001b[0m\n\u001b[0;32m     43\u001b[0m \u001b[38;5;66;03m# As this already tried the method, subok is maybe quite reasonable here\u001b[39;00m\n\u001b[0;32m     44\u001b[0m \u001b[38;5;66;03m# but this follows what was done before. TODO: revisit this.\u001b[39;00m\n\u001b[0;32m     45\u001b[0m arr, \u001b[38;5;241m=\u001b[39m conv\u001b[38;5;241m.\u001b[39mas_arrays(subok\u001b[38;5;241m=\u001b[39m\u001b[38;5;28;01mFalse\u001b[39;00m)\n\u001b[1;32m---> 46\u001b[0m result \u001b[38;5;241m=\u001b[39m \u001b[38;5;28;43mgetattr\u001b[39;49m\u001b[43m(\u001b[49m\u001b[43marr\u001b[49m\u001b[43m,\u001b[49m\u001b[43m \u001b[49m\u001b[43mmethod\u001b[49m\u001b[43m)\u001b[49m\u001b[43m(\u001b[49m\u001b[38;5;241;43m*\u001b[39;49m\u001b[43margs\u001b[49m\u001b[43m,\u001b[49m\u001b[43m \u001b[49m\u001b[38;5;241;43m*\u001b[39;49m\u001b[38;5;241;43m*\u001b[39;49m\u001b[43mkwds\u001b[49m\u001b[43m)\u001b[49m\n\u001b[0;32m     48\u001b[0m \u001b[38;5;28;01mreturn\u001b[39;00m conv\u001b[38;5;241m.\u001b[39mwrap(result, to_scalar\u001b[38;5;241m=\u001b[39m\u001b[38;5;28;01mFalse\u001b[39;00m)\n",
      "\u001b[1;31mTypeError\u001b[0m: '<' not supported between instances of 'NoneType' and 'NoneType'"
     ]
    }
   ],
   "source": [
    "print(\"\\n🔹 Optimizing Extra Trees Regressor with KOA...\")\n",
    "best_params_koa_et, best_mae_koa_et = koa_optimizer(objective_et, lb_et, ub_et, dim_et, n_agents, max_iter, X, y)\n",
    "print(f\"ETR + KOA Best params: {best_params_koa_et}\")\n",
    "print(f\"ETR + KOA Best MAE: {best_mae_koa_et:.5f}\")\n"
   ]
  },
  {
   "cell_type": "code",
   "execution_count": null,
   "id": "d10d8e04",
   "metadata": {},
   "outputs": [],
   "source": [
    "\n",
    "    # Optimize Extra Trees with COA\n",
    "    print(\"\\n🔹 Optimizing Extra Trees Regressor with COA...\")\n",
    "    best_params_coa_et, best_mae_coa_et = coa_optimizer(objective_et, lb_et, ub_et, dim_et, n_agents, max_iter, X, y)\n",
    "    print(f\"ETR + COA Best params: {best_params_coa_et}\")\n",
    "    print(f\"ETR + COA Best MAE: {best_mae_coa_et:.5f}\")"
   ]
  },
  {
   "cell_type": "code",
   "execution_count": null,
   "id": "80128c64",
   "metadata": {},
   "outputs": [],
   "source": [
    "    # Optimize Lasso with KOA\n",
    "    print(\"\\n🔹 Optimizing Lasso Regression with KOA...\")\n",
    "    best_params_koa_lasso, best_mae_koa_lasso = koa_optimizer(objective_lasso, lb_lasso, ub_lasso, dim_lasso, n_agents, max_iter, X, y)\n",
    "    print(f\"Lasso + KOA Best params: {best_params_koa_lasso}\")\n",
    "    print(f\"Lasso + KOA Best MAE: {best_mae_koa_lasso:.5f}\")\n"
   ]
  },
  {
   "cell_type": "code",
   "execution_count": null,
   "id": "d443a54e",
   "metadata": {},
   "outputs": [],
   "source": [
    "   # Optimize Lasso with COA\n",
    "    print(\"\\n🔹 Optimizing Lasso Regression with COA...\")\n",
    "    best_params_coa_lasso, best_mae_coa_lasso = coa_optimizer(objective_lasso, lb_lasso, ub_lasso, dim_lasso, n_agents, max_iter, X, y)\n",
    "    print(f\"Lasso + COA Best params: {best_params_coa_lasso}\")\n",
    "    print(f\"Lasso + COA Best MAE: {best_mae_coa_lasso:.5f}\")\n"
   ]
  },
  {
   "cell_type": "code",
   "execution_count": null,
   "id": "6f8a04da",
   "metadata": {},
   "outputs": [],
   "source": [
    "    # Wilcoxon Test on baseline models\n",
    "    mae_etr = [score['MAE'] for score in etr_scores]\n",
    "    mae_lr = [score['MAE'] for score in lasso_scores]\n",
    "    perform_wilcoxon_test(mae_etr, mae_lr, model_name_1=\"ETR\", model_name_2=\"LR\")"
   ]
  },
  {
   "cell_type": "code",
   "execution_count": null,
   "id": "662321d9",
   "metadata": {},
   "outputs": [
    {
     "name": "stdout",
     "output_type": "stream",
     "text": [
      "🔹 Extra Trees Regressor:\n",
      "  R2: 0.9681\n",
      "  RMSE: 0.0032\n",
      "  MAE: 0.0410\n",
      "  MAPE: 0.6522\n",
      "  MARD: 0.3257\n",
      "\n",
      "🔹 Lasso Regression:\n",
      "  R2: 0.9359\n",
      "  RMSE: 0.0063\n",
      "  MAE: 0.0622\n",
      "  MAPE: 0.9866\n",
      "  MARD: 0.4928\n",
      "\n",
      "🔹 Optimizing Extra Trees Regressor with KOA...\n"
     ]
    },
    {
     "ename": "TypeError",
     "evalue": "'<' not supported between instances of 'NoneType' and 'NoneType'",
     "output_type": "error",
     "traceback": [
      "\u001b[1;31m---------------------------------------------------------------------------\u001b[0m",
      "\u001b[1;31mTypeError\u001b[0m                                 Traceback (most recent call last)",
      "File \u001b[1;32md:\\Python\\Lib\\site-packages\\numpy\\_core\\fromnumeric.py:57\u001b[0m, in \u001b[0;36m_wrapfunc\u001b[1;34m(obj, method, *args, **kwds)\u001b[0m\n\u001b[0;32m     56\u001b[0m \u001b[38;5;28;01mtry\u001b[39;00m:\n\u001b[1;32m---> 57\u001b[0m     \u001b[38;5;28;01mreturn\u001b[39;00m \u001b[43mbound\u001b[49m\u001b[43m(\u001b[49m\u001b[38;5;241;43m*\u001b[39;49m\u001b[43margs\u001b[49m\u001b[43m,\u001b[49m\u001b[43m \u001b[49m\u001b[38;5;241;43m*\u001b[39;49m\u001b[38;5;241;43m*\u001b[39;49m\u001b[43mkwds\u001b[49m\u001b[43m)\u001b[49m\n\u001b[0;32m     58\u001b[0m \u001b[38;5;28;01mexcept\u001b[39;00m \u001b[38;5;167;01mTypeError\u001b[39;00m:\n\u001b[0;32m     59\u001b[0m     \u001b[38;5;66;03m# A TypeError occurs if the object does have such a method in its\u001b[39;00m\n\u001b[0;32m     60\u001b[0m     \u001b[38;5;66;03m# class, but its signature is not identical to that of NumPy's. This\u001b[39;00m\n\u001b[1;32m   (...)\u001b[0m\n\u001b[0;32m     64\u001b[0m     \u001b[38;5;66;03m# Call _wrapit from within the except clause to ensure a potential\u001b[39;00m\n\u001b[0;32m     65\u001b[0m     \u001b[38;5;66;03m# exception has a traceback chain.\u001b[39;00m\n",
      "\u001b[1;31mTypeError\u001b[0m: '<' not supported between instances of 'NoneType' and 'NoneType'",
      "\nDuring handling of the above exception, another exception occurred:\n",
      "\u001b[1;31mTypeError\u001b[0m                                 Traceback (most recent call last)",
      "Cell \u001b[1;32mIn[10], line 53\u001b[0m\n\u001b[0;32m     50\u001b[0m     perform_wilcoxon_test(mae_etr, mae_lr, model_name_1\u001b[38;5;241m=\u001b[39m\u001b[38;5;124m\"\u001b[39m\u001b[38;5;124mETR\u001b[39m\u001b[38;5;124m\"\u001b[39m, model_name_2\u001b[38;5;241m=\u001b[39m\u001b[38;5;124m\"\u001b[39m\u001b[38;5;124mLR\u001b[39m\u001b[38;5;124m\"\u001b[39m)\n\u001b[0;32m     52\u001b[0m \u001b[38;5;28;01mif\u001b[39;00m \u001b[38;5;18m__name__\u001b[39m \u001b[38;5;241m==\u001b[39m \u001b[38;5;124m\"\u001b[39m\u001b[38;5;124m__main__\u001b[39m\u001b[38;5;124m\"\u001b[39m:\n\u001b[1;32m---> 53\u001b[0m     \u001b[43mmain\u001b[49m\u001b[43m(\u001b[49m\u001b[43m)\u001b[49m\n",
      "Cell \u001b[1;32mIn[10], line 25\u001b[0m, in \u001b[0;36mmain\u001b[1;34m()\u001b[0m\n\u001b[0;32m     23\u001b[0m \u001b[38;5;66;03m# Optimize Extra Trees with KOA\u001b[39;00m\n\u001b[0;32m     24\u001b[0m \u001b[38;5;28mprint\u001b[39m(\u001b[38;5;124m\"\u001b[39m\u001b[38;5;130;01m\\n\u001b[39;00m\u001b[38;5;124m🔹 Optimizing Extra Trees Regressor with KOA...\u001b[39m\u001b[38;5;124m\"\u001b[39m)\n\u001b[1;32m---> 25\u001b[0m best_params_koa_et, best_mae_koa_et \u001b[38;5;241m=\u001b[39m \u001b[43mkoa_optimizer\u001b[49m\u001b[43m(\u001b[49m\u001b[43mobjective_et\u001b[49m\u001b[43m,\u001b[49m\u001b[43m \u001b[49m\u001b[43mlb_et\u001b[49m\u001b[43m,\u001b[49m\u001b[43m \u001b[49m\u001b[43mub_et\u001b[49m\u001b[43m,\u001b[49m\u001b[43m \u001b[49m\u001b[43mdim_et\u001b[49m\u001b[43m,\u001b[49m\u001b[43m \u001b[49m\u001b[43mn_agents\u001b[49m\u001b[43m,\u001b[49m\u001b[43m \u001b[49m\u001b[43mmax_iter\u001b[49m\u001b[43m,\u001b[49m\u001b[43m \u001b[49m\u001b[43mX\u001b[49m\u001b[43m,\u001b[49m\u001b[43m \u001b[49m\u001b[43my\u001b[49m\u001b[43m)\u001b[49m\n\u001b[0;32m     26\u001b[0m \u001b[38;5;28mprint\u001b[39m(\u001b[38;5;124mf\u001b[39m\u001b[38;5;124m\"\u001b[39m\u001b[38;5;124mETR + KOA Best params: \u001b[39m\u001b[38;5;132;01m{\u001b[39;00mbest_params_koa_et\u001b[38;5;132;01m}\u001b[39;00m\u001b[38;5;124m\"\u001b[39m)\n\u001b[0;32m     27\u001b[0m \u001b[38;5;28mprint\u001b[39m(\u001b[38;5;124mf\u001b[39m\u001b[38;5;124m\"\u001b[39m\u001b[38;5;124mETR + KOA Best MAE: \u001b[39m\u001b[38;5;132;01m{\u001b[39;00mbest_mae_koa_et\u001b[38;5;132;01m:\u001b[39;00m\u001b[38;5;124m.5f\u001b[39m\u001b[38;5;132;01m}\u001b[39;00m\u001b[38;5;124m\"\u001b[39m)\n",
      "File \u001b[1;32md:\\ML\\Project-2\\src\\Optimiser\\KOA\\koa_optimizer.py:8\u001b[0m, in \u001b[0;36mkoa_optimizer\u001b[1;34m(objective_function, lb, ub, dim, n_agents, max_iter, X, y)\u001b[0m\n\u001b[0;32m      5\u001b[0m pos \u001b[38;5;241m=\u001b[39m np\u001b[38;5;241m.\u001b[39mrandom\u001b[38;5;241m.\u001b[39muniform(low\u001b[38;5;241m=\u001b[39mlb, high\u001b[38;5;241m=\u001b[39mub, size\u001b[38;5;241m=\u001b[39m(n_agents, dim))\n\u001b[0;32m      6\u001b[0m fit \u001b[38;5;241m=\u001b[39m np\u001b[38;5;241m.\u001b[39marray([objective_function(ind, X, y) \u001b[38;5;28;01mfor\u001b[39;00m ind \u001b[38;5;129;01min\u001b[39;00m pos])\n\u001b[1;32m----> 8\u001b[0m best_idx \u001b[38;5;241m=\u001b[39m \u001b[43mnp\u001b[49m\u001b[38;5;241;43m.\u001b[39;49m\u001b[43margmin\u001b[49m\u001b[43m(\u001b[49m\u001b[43mfit\u001b[49m\u001b[43m)\u001b[49m\n\u001b[0;32m      9\u001b[0m best_pos \u001b[38;5;241m=\u001b[39m pos[best_idx]\u001b[38;5;241m.\u001b[39mcopy()\n\u001b[0;32m     10\u001b[0m best_fit \u001b[38;5;241m=\u001b[39m fit[best_idx]\n",
      "File \u001b[1;32md:\\Python\\Lib\\site-packages\\numpy\\_core\\fromnumeric.py:1439\u001b[0m, in \u001b[0;36margmin\u001b[1;34m(a, axis, out, keepdims)\u001b[0m\n\u001b[0;32m   1350\u001b[0m \u001b[38;5;250m\u001b[39m\u001b[38;5;124;03m\"\"\"\u001b[39;00m\n\u001b[0;32m   1351\u001b[0m \u001b[38;5;124;03mReturns the indices of the minimum values along an axis.\u001b[39;00m\n\u001b[0;32m   1352\u001b[0m \n\u001b[1;32m   (...)\u001b[0m\n\u001b[0;32m   1436\u001b[0m \u001b[38;5;124;03m(2, 1, 4)\u001b[39;00m\n\u001b[0;32m   1437\u001b[0m \u001b[38;5;124;03m\"\"\"\u001b[39;00m\n\u001b[0;32m   1438\u001b[0m kwds \u001b[38;5;241m=\u001b[39m {\u001b[38;5;124m'\u001b[39m\u001b[38;5;124mkeepdims\u001b[39m\u001b[38;5;124m'\u001b[39m: keepdims} \u001b[38;5;28;01mif\u001b[39;00m keepdims \u001b[38;5;129;01mis\u001b[39;00m \u001b[38;5;129;01mnot\u001b[39;00m np\u001b[38;5;241m.\u001b[39m_NoValue \u001b[38;5;28;01melse\u001b[39;00m {}\n\u001b[1;32m-> 1439\u001b[0m \u001b[38;5;28;01mreturn\u001b[39;00m \u001b[43m_wrapfunc\u001b[49m\u001b[43m(\u001b[49m\u001b[43ma\u001b[49m\u001b[43m,\u001b[49m\u001b[43m \u001b[49m\u001b[38;5;124;43m'\u001b[39;49m\u001b[38;5;124;43margmin\u001b[39;49m\u001b[38;5;124;43m'\u001b[39;49m\u001b[43m,\u001b[49m\u001b[43m \u001b[49m\u001b[43maxis\u001b[49m\u001b[38;5;241;43m=\u001b[39;49m\u001b[43maxis\u001b[49m\u001b[43m,\u001b[49m\u001b[43m \u001b[49m\u001b[43mout\u001b[49m\u001b[38;5;241;43m=\u001b[39;49m\u001b[43mout\u001b[49m\u001b[43m,\u001b[49m\u001b[43m \u001b[49m\u001b[38;5;241;43m*\u001b[39;49m\u001b[38;5;241;43m*\u001b[39;49m\u001b[43mkwds\u001b[49m\u001b[43m)\u001b[49m\n",
      "File \u001b[1;32md:\\Python\\Lib\\site-packages\\numpy\\_core\\fromnumeric.py:66\u001b[0m, in \u001b[0;36m_wrapfunc\u001b[1;34m(obj, method, *args, **kwds)\u001b[0m\n\u001b[0;32m     57\u001b[0m     \u001b[38;5;28;01mreturn\u001b[39;00m bound(\u001b[38;5;241m*\u001b[39margs, \u001b[38;5;241m*\u001b[39m\u001b[38;5;241m*\u001b[39mkwds)\n\u001b[0;32m     58\u001b[0m \u001b[38;5;28;01mexcept\u001b[39;00m \u001b[38;5;167;01mTypeError\u001b[39;00m:\n\u001b[0;32m     59\u001b[0m     \u001b[38;5;66;03m# A TypeError occurs if the object does have such a method in its\u001b[39;00m\n\u001b[0;32m     60\u001b[0m     \u001b[38;5;66;03m# class, but its signature is not identical to that of NumPy's. This\u001b[39;00m\n\u001b[1;32m   (...)\u001b[0m\n\u001b[0;32m     64\u001b[0m     \u001b[38;5;66;03m# Call _wrapit from within the except clause to ensure a potential\u001b[39;00m\n\u001b[0;32m     65\u001b[0m     \u001b[38;5;66;03m# exception has a traceback chain.\u001b[39;00m\n\u001b[1;32m---> 66\u001b[0m     \u001b[38;5;28;01mreturn\u001b[39;00m \u001b[43m_wrapit\u001b[49m\u001b[43m(\u001b[49m\u001b[43mobj\u001b[49m\u001b[43m,\u001b[49m\u001b[43m \u001b[49m\u001b[43mmethod\u001b[49m\u001b[43m,\u001b[49m\u001b[43m \u001b[49m\u001b[38;5;241;43m*\u001b[39;49m\u001b[43margs\u001b[49m\u001b[43m,\u001b[49m\u001b[43m \u001b[49m\u001b[38;5;241;43m*\u001b[39;49m\u001b[38;5;241;43m*\u001b[39;49m\u001b[43mkwds\u001b[49m\u001b[43m)\u001b[49m\n",
      "File \u001b[1;32md:\\Python\\Lib\\site-packages\\numpy\\_core\\fromnumeric.py:46\u001b[0m, in \u001b[0;36m_wrapit\u001b[1;34m(obj, method, *args, **kwds)\u001b[0m\n\u001b[0;32m     43\u001b[0m \u001b[38;5;66;03m# As this already tried the method, subok is maybe quite reasonable here\u001b[39;00m\n\u001b[0;32m     44\u001b[0m \u001b[38;5;66;03m# but this follows what was done before. TODO: revisit this.\u001b[39;00m\n\u001b[0;32m     45\u001b[0m arr, \u001b[38;5;241m=\u001b[39m conv\u001b[38;5;241m.\u001b[39mas_arrays(subok\u001b[38;5;241m=\u001b[39m\u001b[38;5;28;01mFalse\u001b[39;00m)\n\u001b[1;32m---> 46\u001b[0m result \u001b[38;5;241m=\u001b[39m \u001b[38;5;28;43mgetattr\u001b[39;49m\u001b[43m(\u001b[49m\u001b[43marr\u001b[49m\u001b[43m,\u001b[49m\u001b[43m \u001b[49m\u001b[43mmethod\u001b[49m\u001b[43m)\u001b[49m\u001b[43m(\u001b[49m\u001b[38;5;241;43m*\u001b[39;49m\u001b[43margs\u001b[49m\u001b[43m,\u001b[49m\u001b[43m \u001b[49m\u001b[38;5;241;43m*\u001b[39;49m\u001b[38;5;241;43m*\u001b[39;49m\u001b[43mkwds\u001b[49m\u001b[43m)\u001b[49m\n\u001b[0;32m     48\u001b[0m \u001b[38;5;28;01mreturn\u001b[39;00m conv\u001b[38;5;241m.\u001b[39mwrap(result, to_scalar\u001b[38;5;241m=\u001b[39m\u001b[38;5;28;01mFalse\u001b[39;00m)\n",
      "\u001b[1;31mTypeError\u001b[0m: '<' not supported between instances of 'NoneType' and 'NoneType'"
     ]
    }
   ],
   "source": []
  }
 ],
 "metadata": {
  "kernelspec": {
   "display_name": "Python 3",
   "language": "python",
   "name": "python3"
  },
  "language_info": {
   "codemirror_mode": {
    "name": "ipython",
    "version": 3
   },
   "file_extension": ".py",
   "mimetype": "text/x-python",
   "name": "python",
   "nbconvert_exporter": "python",
   "pygments_lexer": "ipython3",
   "version": "3.12.8"
  }
 },
 "nbformat": 4,
 "nbformat_minor": 5
}
