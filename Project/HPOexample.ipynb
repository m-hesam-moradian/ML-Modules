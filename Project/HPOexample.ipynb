{
 "cells": [
  {
   "cell_type": "code",
   "execution_count": null,
   "id": "c670ff68",
   "metadata": {},
   "outputs": [
    {
     "name": "stdout",
     "output_type": "stream",
     "text": [
      "Best Parameters for RandomForestRegressor: {'n_estimators': 40.71984943039416}\n",
      "Best RMSE: 21.9543\n",
      "[22.083189900439457, 22.083189900439457, 22.083189900439457, 22.083189900439457, 21.95429531712856, 21.95429531712856]\n",
      "Best Parameters for RandomForestClassifier: {'n_estimators': 43.104186354371016}\n",
      "Best Accuracy: 0.5339\n"
     ]
    }
   ],
   "source": [
    "from sklearn.ensemble import RandomForestRegressor , RandomForestClassifier\n",
    "from src.Optimizer.HPO import HPO_runner\n",
    "# === HPO Runner ===\n",
    "\n",
    "\n",
    "if __name__ == \"__main__\":\n",
    "    best_params, best_accuracy, convergence_curve = HPO_runner(\n",
    "       \n",
    "        model_function=\"\",\n",
    "        file_path=\"data/357_Computer_Hardware_RFE_NBR_KNNR_TSOA_CO_SHAP_M_Nasirianfar_2.xlsx\",\n",
    "        target_column='PRP',\n",
    "        model=RandomForestRegressor(),  # Model Object\n",
    "        params={\n",
    "            'n_estimators': [5, 50],  # Hyperparameters with ranges\n",
    "        },\n",
    "        task_type=\"regression\", \n",
    "        SearchAgents=5,\n",
    "        Max_iterations=5,\n",
    "        test_size=0.2\n",
    "    )\n",
    "#     print(convergence_curve)\n",
    "# if __name__ == \"__main__\":\n",
    "#     best_params, best_accuracy, convergence_curve = HPO_runner(\n",
    "#         file_path=\"data/FraudDetectionDataset.xlsx\",\n",
    "#         target_column='Fraudulent',\n",
    "#         model=RandomForestClassifier(),  # Model Object\n",
    "#         params={\n",
    "#             'n_estimators': [5, 50],  # Hyperparameters with ranges\n",
    "#         },\n",
    "#         task_type=\"classification\", \n",
    "#         SearchAgents=5,\n",
    "#         Max_iterations=5,\n",
    "#         test_size=0.2\n",
    "#     )\n",
    "\n",
    "\n",
    "\n",
    "\n"
   ]
  },
  {
   "cell_type": "code",
   "execution_count": 5,
   "id": "1411a720",
   "metadata": {},
   "outputs": [
    {
     "name": "stdout",
     "output_type": "stream",
     "text": [
      "Data has been added and saved to output_data.xlsx successfully!\n"
     ]
    }
   ],
   "source": [
    "import pandas as pd\n",
    "from openpyxl import load_workbook\n",
    "\n",
    "# Step 1: Existing data (the first table)\n",
    "existing_data = [\n",
    "    [\"John\", \"Doe\", 28, \"Engineer\"],\n",
    "    [\"Jane\", \"Smith\", 34, \"Manager\"],\n",
    "    [\"Sam\", \"Brown\", 25, \"Designer\"]\n",
    "]\n",
    "columns_1 = [\"First Name\", \"Last Name\", \"Age\", \"Occupation\"]\n",
    "\n",
    "# Step 2: New data (the second table to be added next to the first one)\n",
    "new_data = [\n",
    "    [101, \"Product A\", 120, \"Available\"],\n",
    "    [102, \"Product B\", 200, \"Sold Out\"],\n",
    "    [103, \"Product C\", 150, \"Available\"]\n",
    "]\n",
    "columns_2 = [\"Product ID\", \"Product Name\", \"Stock\", \"Status\"]\n",
    "\n",
    "# Step 3: Create DataFrames for both sets of data\n",
    "df1 = pd.DataFrame(existing_data, columns=columns_1)\n",
    "df2 = pd.DataFrame(new_data, columns=columns_2)\n",
    "\n",
    "# Step 4: Load the existing workbook (if the file already exists)\n",
    "filename = 'output_data.xlsx'\n",
    "\n",
    "# If the file exists, load it; if not, create a new one\n",
    "try:\n",
    "    # Open the existing workbook and get the sheet\n",
    "    wb = load_workbook(filename)\n",
    "    ws = wb['NewData']  # You can replace 'NewData' with your sheet's name\n",
    "except FileNotFoundError:\n",
    "    # If the file doesn't exist, create a new workbook and write the first table\n",
    "    with pd.ExcelWriter(filename, engine='openpyxl') as writer:\n",
    "        df1.to_excel(writer, sheet_name='NewData', index=False)\n",
    "\n",
    "    wb = load_workbook(filename)\n",
    "    ws = wb['NewData']\n",
    "\n",
    "# Step 5: Write the first table (if it's not already there) starting at cell A1\n",
    "# If the file is newly created, df1 will be written to A1 by default.\n",
    "# If you're appending to an existing file, ensure data is already there.\n",
    "\n",
    "# Step 6: Get the starting row and column to insert the new table\n",
    "# Find the number of columns in the first table (this tells us where to place the new data)\n",
    "last_col = len(columns_1) + 1  # One column for spacing\n",
    "\n",
    "# Step 7: Write the new table to the next available space\n",
    "for r_idx, row in enumerate(df2.values, 1):\n",
    "    for c_idx, value in enumerate(row, last_col):\n",
    "        # Write the value into the corresponding cell\n",
    "        ws.cell(row=r_idx + 1, column=c_idx, value=value)\n",
    "\n",
    "# Step 8: Save the updated workbook\n",
    "wb.save(filename)\n",
    "\n",
    "print(f\"Data has been added and saved to {filename} successfully!\")\n"
   ]
  }
 ],
 "metadata": {
  "kernelspec": {
   "display_name": "Python 3",
   "language": "python",
   "name": "python3"
  },
  "language_info": {
   "codemirror_mode": {
    "name": "ipython",
    "version": 3
   },
   "file_extension": ".py",
   "mimetype": "text/x-python",
   "name": "python",
   "nbconvert_exporter": "python",
   "pygments_lexer": "ipython3",
   "version": "3.12.8"
  }
 },
 "nbformat": 4,
 "nbformat_minor": 5
}
