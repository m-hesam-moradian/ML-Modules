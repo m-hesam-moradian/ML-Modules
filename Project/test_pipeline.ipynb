{
 "cells": [
  {
   "cell_type": "markdown",
   "id": "5cbd502f",
   "metadata": {},
   "source": [
    "# ML Pipeline Test - Multiple Models Comparison\n",
    "This notebook demonstrates the usage of our ML pipeline module with multiple models."
   ]
  },
  {
   "cell_type": "code",
   "execution_count": null,
   "id": "adec9ce9",
   "metadata": {},
   "outputs": [],
   "source": [
    "# Import required libraries\n",
    "import pandas as pd\n",
    "import numpy as np\n",
    "from src.main import run_model_pipeline\n",
    "import matplotlib.pyplot as plt\n",
    "import seaborn as sns\n",
    "from openpyxl import load_workbook\n",
    "from openpyxl.styles import PatternFill, Alignment, Font\n",
    "from src.Exel_Modules.excel_utils import save_predictions_and_metrics_to_excel\n",
    "\n"
   ]
  },
  {
   "cell_type": "markdown",
   "id": "865c2921",
   "metadata": {},
   "source": [
    "## Define Models\n",
    "We'll test multiple models with different configurations."
   ]
  },
  {
   "cell_type": "markdown",
   "id": "9f7ee7e4",
   "metadata": {},
   "source": [
    "# Define models to test"
   ]
  },
  {
   "cell_type": "code",
   "execution_count": 3,
   "id": "fa98e70f",
   "metadata": {},
   "outputs": [],
   "source": [
    "\n",
    "models = {\n",
    "    'Random Forest': {\n",
    "        'library': 'sklearn.ensemble',\n",
    "        'function': 'RandomForestClassifier',\n",
    "        'params': {'n_estimators': 100, 'max_depth': 10}\n",
    "    },\n",
    "    'Gradient Boosting': {\n",
    "        'library': 'sklearn.ensemble',\n",
    "        'function': 'GradientBoostingClassifier',\n",
    "        'params': {'n_estimators': 100, 'learning_rate': 0.1}\n",
    "    },\n",
    "    'SVM': {\n",
    "        'library': 'sklearn.svm',\n",
    "        'function': 'SVC',\n",
    "        'params': {'kernel': 'rbf', 'C': 1.0}\n",
    "    },\n",
    "    'Logistic Regression': {\n",
    "        'library': 'sklearn.linear_model',\n",
    "        'function': 'LogisticRegression',\n",
    "        'params': {'max_iter': 1000}\n",
    "    }\n",
    "}"
   ]
  },
  {
   "cell_type": "code",
   "execution_count": 4,
   "id": "f4be297d",
   "metadata": {},
   "outputs": [
    {
     "name": "stdout",
     "output_type": "stream",
     "text": [
      "\n",
      "Training Random Forest...\n",
      "[Train] Accuracy: 0.9683 | Precision: 0.9702 | Recall: 0.9659 | f1_score: 0.9680\n",
      "[Test ] Accuracy: 0.4712 | Precision: 0.4560 | Recall: 0.4500 | f1_score: 0.4530\n",
      "[All  ] Accuracy: 0.8688 | Precision: 0.8698 | Recall: 0.8644 | f1_score: 0.8671\n",
      "\n",
      "Training Gradient Boosting...\n",
      "[Train] Accuracy: 0.7039 | Precision: 0.7113 | Recall: 0.6811 | f1_score: 0.6959\n",
      "[Test ] Accuracy: 0.5083 | Precision: 0.4945 | Recall: 0.4737 | f1_score: 0.4839\n",
      "[All  ] Accuracy: 0.6648 | Precision: 0.6686 | Recall: 0.6403 | f1_score: 0.6542\n",
      "\n",
      "Training SVM...\n",
      "[Train] Accuracy: 0.6302 | Precision: 0.6376 | Recall: 0.5941 | f1_score: 0.6151\n",
      "[Test ] Accuracy: 0.4930 | Precision: 0.4781 | Recall: 0.4605 | f1_score: 0.4692\n",
      "[All  ] Accuracy: 0.6028 | Precision: 0.6054 | Recall: 0.5678 | f1_score: 0.5860\n",
      "\n",
      "Training Logistic Regression...\n",
      "[Train] Accuracy: 0.5309 | Precision: 0.5299 | Recall: 0.5019 | f1_score: 0.5156\n",
      "[Test ] Accuracy: 0.5122 | Precision: 0.4986 | Recall: 0.4684 | f1_score: 0.4830\n",
      "[All  ] Accuracy: 0.5272 | Precision: 0.5238 | Recall: 0.4953 | f1_score: 0.5092\n"
     ]
    }
   ],
   "source": [
    "\n",
    "\n",
    "# Data parameters\n",
    "DATA_PATH = \"data/FraudDetectionDataset.xlsx\"\n",
    "TARGET_COLUMN = \"Fraudulent\"\n",
    "\n",
    "# Store results for all models\n",
    "all_results = {}\n",
    "\n",
    "# Run pipeline for each model\n",
    "for model_name, model_config in models.items():\n",
    "    print(f\"\\nTraining {model_name}...\")\n",
    "    results = run_model_pipeline(\n",
    "        data_path=DATA_PATH,\n",
    "        target_column=TARGET_COLUMN,\n",
    "        model_library=model_config['library'],\n",
    "        model_function=model_config['function'],\n",
    "        model_params=model_config['params']\n",
    "    )\n",
    "    all_results[model_name] = results\n",
    "# print(all_results[\"Random Forest\"])"
   ]
  },
  {
   "cell_type": "markdown",
   "id": "0de279bf",
   "metadata": {},
   "source": [
    "# ==== Save Predictions to Excel ===="
   ]
  },
  {
   "cell_type": "code",
   "execution_count": null,
   "id": "a0d00b4a",
   "metadata": {},
   "outputs": [],
   "source": [
    "\n",
    "\n",
    "# Call the function\n",
    "save_predictions_and_metrics_to_excel(\n",
    "    results_dict=all_results,\n",
    "    model_name=\"Random Forest\",\n",
    "    excel_path=\"data/FraudDetectionDataset.xlsx\"\n",
    ")\n"
   ]
  },
  {
   "cell_type": "code",
   "execution_count": 1,
   "id": "01f36d79",
   "metadata": {},
   "outputs": [],
   "source": [
    "import numpy as np\n",
    "\n",
    "def initialize_population(num_agents, dim, lower_bound, upper_bound):\n",
    "    \"\"\"\n",
    "    مقداردهی اولیه جمعیت با تعداد عامل‌ها، ابعاد و حدود مشخص\n",
    "\n",
    "    Args:\n",
    "        num_agents (int): تعداد اسب‌های آبی (عامل‌ها)\n",
    "        dim (int): تعداد ابعاد فضای جست‌وجو\n",
    "        lower_bound (float or array): حد پایین هر بعد\n",
    "        upper_bound (float or array): حد بالا هر بعد\n",
    "\n",
    "    Returns:\n",
    "        np.ndarray: ماتریسی با شکل (num_agents, dim) از جمعیت اولیه\n",
    "    \"\"\"\n",
    "    population = np.random.uniform(low=lower_bound, high=upper_bound, size=(num_agents, dim))\n",
    "    return population\n"
   ]
  },
  {
   "cell_type": "code",
   "execution_count": 2,
   "id": "76678974",
   "metadata": {},
   "outputs": [
    {
     "name": "stdout",
     "output_type": "stream",
     "text": [
      "[[6.76538703e+01 7.48691226e-01 4.17337993e-02]\n",
      " [1.12075240e+01 2.74188889e+01 8.91410909e+01]\n",
      " [9.40567652e+01 6.34153036e+01 1.01973438e+01]\n",
      " [4.33876012e+01 2.15478017e+00 3.12457283e+01]\n",
      " [4.18118057e+01 6.12047321e+01 3.37693500e+01]]\n"
     ]
    }
   ],
   "source": [
    "# پارامترهای آزمایشی\n",
    "num_agents = 5\n",
    "dimensions = 3\n",
    "LB = 0\n",
    "UB = 100\n",
    "\n",
    "pop = initialize_population(num_agents, dimensions, LB, UB)\n",
    "print(pop)\n"
   ]
  },
  {
   "cell_type": "code",
   "execution_count": null,
   "id": "1d8d0a4a",
   "metadata": {},
   "outputs": [
    {
     "name": "stdout",
     "output_type": "stream",
     "text": [
      "Best Parameters: {'activation': 'logistic', 'alpha': np.float64(0.006199966577826209), 'hidden_layer_sizes': (150, 100), 'learning_rate': 'constant', 'solver': 'adam'}\n",
      "\n",
      "Classification Report:\n",
      "              precision    recall  f1-score   support\n",
      "\n",
      "           0       0.53      0.64      0.58       401\n",
      "           1       0.51      0.40      0.45       380\n",
      "\n",
      "    accuracy                           0.52       781\n",
      "   macro avg       0.52      0.52      0.51       781\n",
      "weighted avg       0.52      0.52      0.52       781\n",
      "\n"
     ]
    },
    {
     "ename": "",
     "evalue": "",
     "output_type": "error",
     "traceback": [
      "\u001b[1;31mThe Kernel crashed while executing code in the current cell or a previous cell. \n",
      "\u001b[1;31mPlease review the code in the cell(s) to identify a possible cause of the failure. \n",
      "\u001b[1;31mClick <a href='https://aka.ms/vscodeJupyterKernelCrash'>here</a> for more info. \n",
      "\u001b[1;31mView Jupyter <a href='command:jupyter.viewOutput'>log</a> for further details."
     ]
    }
   ],
   "source": [
    "import pandas as pd\n",
    "from sklearn.model_selection import train_test_split\n",
    "from sklearn.preprocessing import StandardScaler\n",
    "from sklearn.neural_network import MLPClassifier\n",
    "from sklearn.metrics import classification_report\n",
    "from sklearn.model_selection import RandomizedSearchCV\n",
    "from scipy.stats import uniform, randint\n",
    "\n",
    "# مسیر فایل\n",
    "DATA_PATH = \"data/FraudDetectionDataset.xlsx\"\n",
    "\n",
    "# 1. خواندن داده\n",
    "df = pd.read_excel(DATA_PATH)\n",
    "X = df.drop(columns=['Fraudulent'])\n",
    "y = df['Fraudulent']\n",
    "\n",
    "# 2. پیش‌پردازش\n",
    "X = pd.get_dummies(X)  # تبدیل داده‌های غیرعددی به عددی\n",
    "scaler = StandardScaler()\n",
    "X_scaled = scaler.fit_transform(X)\n",
    "\n",
    "# 3. تقسیم‌بندی داده‌ها\n",
    "X_train, X_test, y_train, y_test = train_test_split(X_scaled, y, test_size=0.2, random_state=42)\n",
    "\n",
    "# 4. تعریف مدل MLP\n",
    "mlp = MLPClassifier(max_iter=500, random_state=42)\n",
    "\n",
    "# 5. تعریف فضای جستجوی ابرپارامترها\n",
    "param_dist = {\n",
    "    'hidden_layer_sizes': [(50,), (100,), (100, 50), (150, 100)],\n",
    "    'activation': ['relu', 'tanh', 'logistic'],\n",
    "    'solver': ['adam', 'sgd'],\n",
    "    'alpha': uniform(0.0001, 0.01),\n",
    "    'learning_rate': ['constant', 'adaptive']\n",
    "}\n",
    "\n",
    "# 6. اجرای RandomizedSearchCV\n",
    "random_search = RandomizedSearchCV(mlp, param_distributions=param_dist,\n",
    "                                   n_iter=20, cv=3, scoring='accuracy', random_state=42, n_jobs=-1)\n",
    "random_search.fit(X_train, y_train)\n",
    "\n",
    "# 7. ارزیابی مدل\n",
    "best_model = random_search.best_estimator_\n",
    "y_pred = best_model.predict(X_test)\n",
    "print(\"Best Parameters:\", random_search.best_params_)\n",
    "print(\"\\nClassification Report:\")\n",
    "print(classification_report(y_test, y_pred))\n"
   ]
  },
  {
   "cell_type": "code",
   "execution_count": 4,
   "id": "531768b9",
   "metadata": {},
   "outputs": [
    {
     "name": "stdout",
     "output_type": "stream",
     "text": [
      "ستون‌های موجود در فایل:\n",
      "Index(['Transaction_ID', 'User_ID', 'Transaction_Amount', 'Transaction_Type',\n",
      "       'Time_of_Transaction', 'Device_Used', 'Location',\n",
      "       'Previous_Fraudulent_Transactions', 'Account_Age',\n",
      "       'Number_of_Transactions_Last_24H', 'Payment_Method', 'Fraudulent'],\n",
      "      dtype='object')\n"
     ]
    }
   ],
   "source": [
    "import pandas as pd\n",
    "\n",
    "DATA_PATH = \"data/FraudDetectionDataset.xlsx\"\n",
    "df = pd.read_excel(DATA_PATH)\n",
    "\n",
    "print(\"ستون‌های موجود در فایل:\")\n",
    "print(df.columns)\n"
   ]
  },
  {
   "cell_type": "markdown",
   "id": "7f5a1380",
   "metadata": {},
   "source": []
  }
 ],
 "metadata": {
  "kernelspec": {
   "display_name": "Python 3",
   "language": "python",
   "name": "python3"
  },
  "language_info": {
   "codemirror_mode": {
    "name": "ipython",
    "version": 3
   },
   "file_extension": ".py",
   "mimetype": "text/x-python",
   "name": "python",
   "nbconvert_exporter": "python",
   "pygments_lexer": "ipython3",
   "version": "3.12.8"
  }
 },
 "nbformat": 4,
 "nbformat_minor": 5
}
