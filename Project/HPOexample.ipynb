{
 "cells": [
  {
   "cell_type": "code",
   "execution_count": null,
   "id": "c670ff68",
   "metadata": {},
   "outputs": [
    {
     "name": "stdout",
     "output_type": "stream",
     "text": [
      "Best Parameters for RandomForestRegressor: {'n_estimators': 10.685532130499464}\n",
      "Best RMSE: 25.1981\n",
      "[26.52467815337537, 25.19810371925143, 25.19810371925143, 25.19810371925143, 25.19810371925143, 25.19810371925143, 25.19810371925143, 25.19810371925143, 25.19810371925143, 25.19810371925143, 25.19810371925143]\n",
      "Best Parameters for RandomForestClassifier: {'n_estimators': 50.0}\n",
      "Best Accuracy: 0.5352\n"
     ]
    }
   ],
   "source": [
    "from sklearn.ensemble import RandomForestRegressor , RandomForestClassifier\n",
    "from src.Optimizer.HPO import HPO_runner\n",
    "# === HPO Runner ===\n",
    "\n",
    "\n",
    "if __name__ == \"__main__\":\n",
    "    best_params, best_accuracy, convergence_curve = HPO_runner(\n",
    "        file_path=\"data/357_Computer_Hardware_RFE_NBR_KNNR_TSOA_CO_SHAP_M_Nasirianfar_2.xlsx\",\n",
    "        target_column='PRP',\n",
    "        model=RandomForestRegressor(),  # Model Object\n",
    "        params={\n",
    "            'n_estimators': [5, 50],  # Hyperparameters with ranges\n",
    "        },\n",
    "        task_type=\"regression\", \n",
    "        SearchAgents=10,\n",
    "        Max_iterations=10,\n",
    "        test_size=0.5\n",
    "    )\n",
    "    print(convergence_curve)\n",
    "if __name__ == \"__main__\":\n",
    "    best_params, best_accuracy, convergence_curve = HPO_runner(\n",
    "        file_path=\"data/FraudDetectionDataset.xlsx\",\n",
    "        target_column='Fraudulent',\n",
    "        model=RandomForestClassifier(),  # Model Object\n",
    "        params={\n",
    "            'n_estimators': [5, 50],  # Hyperparameters with ranges\n",
    "        },\n",
    "        task_type=\"classification\", \n",
    "        SearchAgents=10,\n",
    "        Max_iterations=10,\n",
    "        test_size=0.2\n",
    "    )\n",
    "\n",
    "\n",
    "\n",
    "\n"
   ]
  }
 ],
 "metadata": {
  "kernelspec": {
   "display_name": "Python 3",
   "language": "python",
   "name": "python3"
  },
  "language_info": {
   "codemirror_mode": {
    "name": "ipython",
    "version": 3
   },
   "file_extension": ".py",
   "mimetype": "text/x-python",
   "name": "python",
   "nbconvert_exporter": "python",
   "pygments_lexer": "ipython3",
   "version": "3.12.8"
  }
 },
 "nbformat": 4,
 "nbformat_minor": 5
}
