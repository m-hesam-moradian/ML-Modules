{
 "cells": [
  {
   "cell_type": "markdown",
   "id": "d55689b8",
   "metadata": {},
   "source": [
    "# RandomForestRegressor Hyperparameter Optimization with HO\n",
    "This notebook demonstrates how to optimize the `max_depth` and `random_state` hyperparameters of a RandomForestRegressor using the Hippopotamus Optimizer (HO) on data from an Excel file."
   ]
  },
  {
   "cell_type": "markdown",
   "id": "d9441c21",
   "metadata": {},
   "source": [
    "## 1. Import Required Libraries\n",
    "We import all necessary libraries for data handling, modeling, and optimization."
   ]
  },
  {
   "cell_type": "code",
   "execution_count": 1,
   "id": "c1e3f451",
   "metadata": {},
   "outputs": [],
   "source": [
    "import numpy as np\n",
    "import pandas as pd\n",
    "from sklearn.ensemble import RandomForestRegressor\n",
    "from sklearn.model_selection import train_test_split\n",
    "from sklearn.metrics import mean_squared_error\n",
    "from HO import HO"
   ]
  },
  {
   "cell_type": "markdown",
   "id": "be77ac15",
   "metadata": {},
   "source": [
    "## 2. Load Data from Excel\n",
    "Define a function to load features and target from an Excel file."
   ]
  },
  {
   "cell_type": "code",
   "execution_count": 2,
   "id": "4654434d",
   "metadata": {},
   "outputs": [],
   "source": [
    "def load_excel_data(file_path, target_column):\n",
    "    df = pd.read_excel(file_path)\n",
    "    X = df.drop(columns=[target_column])\n",
    "    y = df[target_column]\n",
    "    return X.values, y.values"
   ]
  },
  {
   "cell_type": "markdown",
   "id": "dfc80765",
   "metadata": {},
   "source": [
    "## 3. Define Fitness Function\n",
    "This function trains a RandomForestRegressor with given hyperparameters and returns the RMSE on the test set."
   ]
  },
  {
   "cell_type": "code",
   "execution_count": 7,
   "id": "99a28c5c",
   "metadata": {},
   "outputs": [],
   "source": [
    "def rf_fitness(params, X_train, y_train, X_test, y_test):\n",
    "    # params: [max_depth, n_neighbors, random_state] (n_neighbors is not used in RF, but included for demo)\n",
    "    max_depth = int(params[0])\n",
    "    # n_neighbors = int(params[1])  # Not used in RandomForestRegressor\n",
    "    random_state = int(params[2]) if len(params) > 2 else 42\n",
    "    model = RandomForestRegressor(max_depth=max_depth, random_state=random_state)\n",
    "    model.fit(X_train, y_train)\n",
    "    y_pred = model.predict(X_test)\n",
    "    rmse = mean_squared_error(y_test, y_pred)\n",
    "    return rmse"
   ]
  },
  {
   "cell_type": "markdown",
   "id": "ff358316",
   "metadata": {},
   "source": [
    "## 4. Define Search Space and Fitness Wrapper\n",
    "This function sets the bounds for each hyperparameter and returns a fitness function for the optimizer."
   ]
  },
  {
   "cell_type": "code",
   "execution_count": 4,
   "id": "030a0b24",
   "metadata": {},
   "outputs": [],
   "source": [
    "def fun_info(X_train, y_train, X_test, y_test):\n",
    "    lowerbound = [1, 1, 0]  # min for max_depth, n_neighbors, random_state\n",
    "    upperbound = [20, 20, 1000]  # max for max_depth, n_neighbors, random_state\n",
    "    dimension = 3\n",
    "    def fitness(x):\n",
    "        return rf_fitness(x, X_train, y_train, X_test, y_test)\n",
    "    return lowerbound, upperbound, dimension, fitness"
   ]
  },
  {
   "cell_type": "markdown",
   "id": "95d522a3",
   "metadata": {},
   "source": [
    "## 5. Load Data and Split\n",
    "Load the Excel data and split it into training and test sets."
   ]
  },
  {
   "cell_type": "code",
   "execution_count": 5,
   "id": "e3bb7763",
   "metadata": {},
   "outputs": [],
   "source": [
    "file_path = '../../../data/357_Computer_Hardware_RFE_NBR_KNNR_TSOA_CO_SHAP_M_Nasirianfar_2.xlsx'  # Update path as needed\n",
    "target_column = 'PRP'  # Update as needed\n",
    "X, y = load_excel_data(file_path, target_column)\n",
    "split_random_state = 42\n",
    "X_train, X_test, y_train, y_test = train_test_split(X, y, test_size=0.2, random_state=split_random_state)"
   ]
  },
  {
   "cell_type": "markdown",
   "id": "921efb20",
   "metadata": {},
   "source": [
    "## 6. Run Hippopotamus Optimizer (HO)\n",
    "Set up the optimizer and run it to find the best hyperparameters."
   ]
  },
  {
   "cell_type": "code",
   "execution_count": 8,
   "id": "11350d05",
   "metadata": {},
   "outputs": [
    {
     "name": "stdout",
     "output_type": "stream",
     "text": [
      "Iteration 1: Best Cost = 455.718707\n",
      "Iteration 2: Best Cost = 455.159128\n",
      "Iteration 2: Best Cost = 455.159128\n",
      "Iteration 3: Best Cost = 455.159128\n",
      "Iteration 3: Best Cost = 455.159128\n",
      "Iteration 4: Best Cost = 455.159128\n",
      "Iteration 4: Best Cost = 455.159128\n",
      "Iteration 5: Best Cost = 455.159128\n",
      "Iteration 5: Best Cost = 455.159128\n",
      "Iteration 6: Best Cost = 455.159128\n",
      "Iteration 6: Best Cost = 455.159128\n",
      "Iteration 7: Best Cost = 455.159128\n",
      "Iteration 7: Best Cost = 455.159128\n",
      "Iteration 8: Best Cost = 455.159128\n",
      "Iteration 8: Best Cost = 455.159128\n",
      "Iteration 9: Best Cost = 454.942179\n",
      "Iteration 9: Best Cost = 454.942179\n",
      "Iteration 10: Best Cost = 454.942179\n",
      "Iteration 10: Best Cost = 454.942179\n",
      "Iteration 11: Best Cost = 454.942179\n",
      "Iteration 11: Best Cost = 454.942179\n",
      "Iteration 12: Best Cost = 453.284171\n",
      "Iteration 12: Best Cost = 453.284171\n",
      "Iteration 13: Best Cost = 453.284171\n",
      "Iteration 13: Best Cost = 453.284171\n",
      "Iteration 14: Best Cost = 447.832215\n",
      "Iteration 14: Best Cost = 447.832215\n",
      "Iteration 15: Best Cost = 447.832215\n",
      "Iteration 15: Best Cost = 447.832215\n",
      "Iteration 16: Best Cost = 447.832215\n",
      "Iteration 16: Best Cost = 447.832215\n",
      "Iteration 17: Best Cost = 447.832215\n",
      "Iteration 17: Best Cost = 447.832215\n",
      "Iteration 18: Best Cost = 447.832215\n",
      "Iteration 18: Best Cost = 447.832215\n",
      "Iteration 19: Best Cost = 447.832215\n",
      "Iteration 19: Best Cost = 447.832215\n",
      "Iteration 20: Best Cost = 447.832215\n",
      "Iteration 20: Best Cost = 447.832215\n"
     ]
    }
   ],
   "source": [
    "lowerbound, upperbound, dimension, fitness = fun_info(X_train, y_train, X_test, y_test)\n",
    "SearchAgents = 8\n",
    "Max_iterations = 20\n",
    "Best_score, Best_pos, HO_curve = HO(\n",
    "    SearchAgents, Max_iterations, lowerbound, upperbound, dimension, fitness\n",
    ")"
   ]
  },
  {
   "cell_type": "markdown",
   "id": "194ffc5d",
   "metadata": {},
   "source": [
    "## 7. Show Results\n",
    "Print the best hyperparameters and the best RMSE found."
   ]
  },
  {
   "cell_type": "code",
   "execution_count": 9,
   "id": "655e02ef",
   "metadata": {},
   "outputs": [
    {
     "name": "stdout",
     "output_type": "stream",
     "text": [
      "Best hyperparameters: max_depth=3, random_state=892\n",
      "Best RMSE: 447.8322146597292\n"
     ]
    }
   ],
   "source": [
    "print(f'Best hyperparameters: max_depth={int(Best_pos[0])}, random_state={int(Best_pos[2])}')\n",
    "print(f'Best RMSE: {Best_score}')"
   ]
  },
  {
   "cell_type": "code",
   "execution_count": 13,
   "id": "dc069834",
   "metadata": {},
   "outputs": [
    {
     "name": "stdout",
     "output_type": "stream",
     "text": [
      "Iteration 1: Best Cost = 603.676437\n",
      "Iteration 2: Best Cost = 603.676437\n",
      "Iteration 2: Best Cost = 603.676437\n",
      "Iteration 3: Best Cost = 603.676437\n",
      "Iteration 3: Best Cost = 603.676437\n",
      "Iteration 4: Best Cost = 603.676437\n",
      "Iteration 4: Best Cost = 603.676437\n",
      "Iteration 5: Best Cost = 603.676437\n",
      "Iteration 5: Best Cost = 603.676437\n",
      "Iteration 6: Best Cost = 603.676437\n",
      "Iteration 6: Best Cost = 603.676437\n",
      "Iteration 7: Best Cost = 603.676437\n",
      "Iteration 7: Best Cost = 603.676437\n",
      "Iteration 8: Best Cost = 603.676437\n",
      "Iteration 8: Best Cost = 603.676437\n",
      "Iteration 9: Best Cost = 603.676437\n",
      "Iteration 9: Best Cost = 603.676437\n",
      "Iteration 10: Best Cost = 603.676437\n",
      "Best max_depth: 67\n",
      "Best n_estimators: 18\n",
      "Best CV MSE: 603.6764371821771\n",
      "Iteration 10: Best Cost = 603.676437\n",
      "Best max_depth: 67\n",
      "Best n_estimators: 18\n",
      "Best CV MSE: 603.6764371821771\n"
     ]
    },
    {
     "data": {
      "image/png": "[encoded data removed]",
      "text/plain": [
       "<Figure size 640x480 with 1 Axes>"
      ]
     },
     "metadata": {},
     "output_type": "display_data"
    },
    {
     "name": "stdout",
     "output_type": "stream",
     "text": [
      "\n",
      "=== Final Model Evaluation ===\n",
      "Mean Squared Error (MSE): 553.3062\n",
      "Root Mean Squared Error (RMSE): 23.5225\n",
      "Mean Absolute Error (MAE): 18.4713\n",
      "R² Score: 0.8116\n"
     ]
    }
   ],
   "source": [
    "import numpy as np\n",
    "import pandas as pd\n",
    "import matplotlib.pyplot as plt\n",
    "from sklearn.model_selection import cross_val_score, train_test_split\n",
    "from sklearn.ensemble import RandomForestRegressor\n",
    "from sklearn.preprocessing import StandardScaler\n",
    "from sklearn.metrics import mean_squared_error, mean_absolute_error, r2_score\n",
    "from HO import HO\n",
    "\n",
    "# === 1. Load and preprocess Excel data ===\n",
    "df = pd.read_excel(\"../../../data/357_Computer_Hardware_RFE_NBR_KNNR_TSOA_CO_SHAP_M_Nasirianfar_2.xlsx\")  # <== Replace with your file path\n",
    "\n",
    "# Assume last column is the target\n",
    "X = df.iloc[:, :-1].values\n",
    "y = df.iloc[:, -1].values\n",
    "\n",
    "# Optional: Normalize or scale\n",
    "scaler = StandardScaler()\n",
    "X = scaler.fit_transform(X)\n",
    "\n",
    "# === 2. Define fitness function ===\n",
    "def RF_fitness(params):\n",
    "    max_depth = int(params[0])\n",
    "    n_estimators = int(params[1])\n",
    "\n",
    "    max_depth = max(1, min(max_depth, 50))\n",
    "    n_estimators = max(10, min(n_estimators, 300))\n",
    "\n",
    "    model = RandomForestRegressor(max_depth=max_depth, n_estimators=n_estimators, random_state=42)\n",
    "    scores = cross_val_score(model, X, y, scoring='neg_mean_squared_error', cv=5)\n",
    "    return -np.mean(scores)\n",
    "\n",
    "# === 3. Setup search space ===\n",
    "def fun_info(name):\n",
    "    if name == \"RandomForest\":\n",
    "        lowerbound = [1, 10]\n",
    "        upperbound = [50, 300]\n",
    "        dimension = 2\n",
    "        return lowerbound, upperbound, dimension, RF_fitness\n",
    "    raise ValueError(\"Function not supported\")\n",
    "\n",
    "# === 4. Run optimization ===\n",
    "if __name__ == \"__main__\":\n",
    "    fun_name = \"RandomForest\"\n",
    "    SearchAgents = 5\n",
    "    Max_iterations = 10\n",
    "\n",
    "    lowerbound, upperbound, dimension, fitness = fun_info(fun_name)\n",
    "\n",
    "    Best_score, Best_pos, HO_curve = HO(\n",
    "        SearchAgents, Max_iterations, lowerbound[0], upperbound[1], dimension, fitness\n",
    "    )\n",
    "\n",
    "    best_max_depth = int(Best_pos[0])\n",
    "    best_n_estimators = int(Best_pos[1])\n",
    "\n",
    "    print(f\"Best max_depth: {best_max_depth}\")\n",
    "    print(f\"Best n_estimators: {best_n_estimators}\")\n",
    "    print(f\"Best CV MSE: {Best_score}\")\n",
    "\n",
    "    # === 5. Plot convergence ===\n",
    "    plt.figure()\n",
    "    plt.semilogy(HO_curve, color=\"#b28d90\", linewidth=2)\n",
    "    plt.xlabel(\"Iteration\")\n",
    "    plt.ylabel(\"Best score obtained so far\")\n",
    "    plt.title(\"HO for Random Forest Hyperparameter Tuning\")\n",
    "    plt.grid(True)\n",
    "    plt.legend([\"HO\"])\n",
    "    plt.show()\n",
    "\n",
    "    # === 6. Final model training and prediction ===\n",
    "    X_train, X_test, y_train, y_test = train_test_split(X, y, test_size=0.2, random_state=42)\n",
    "\n",
    "    final_model = RandomForestRegressor(\n",
    "        max_depth=best_max_depth,\n",
    "        n_estimators=best_n_estimators,\n",
    "        random_state=42\n",
    "    )\n",
    "    final_model.fit(X_train, y_train)\n",
    "    y_pred = final_model.predict(X_test)\n",
    "\n",
    "    # === 7. Evaluation metrics ===\n",
    "    mse = mean_squared_error(y_test, y_pred)\n",
    "    rmse = np.sqrt(mse)\n",
    "    mae = mean_absolute_error(y_test, y_pred)\n",
    "    r2 = r2_score(y_test, y_pred)\n",
    "\n",
    "    print(\"\\n=== Final Model Evaluation ===\")\n",
    "    print(f\"Mean Squared Error (MSE): {mse:.4f}\")\n",
    "    print(f\"Root Mean Squared Error (RMSE): {rmse:.4f}\")\n",
    "    print(f\"Mean Absolute Error (MAE): {mae:.4f}\")\n",
    "    print(f\"R² Score: {r2:.4f}\")\n"
   ]
  }
 ],
 "metadata": {
  "kernelspec": {
   "display_name": "Python 3",
   "language": "python",
   "name": "python3"
  },
  "language_info": {
   "codemirror_mode": {
    "name": "ipython",
    "version": 3
   },
   "file_extension": ".py",
   "mimetype": "text/x-python",
   "name": "python",
   "nbconvert_exporter": "python",
   "pygments_lexer": "ipython3",
   "version": "3.12.8"
  }
 },
 "nbformat": 4,
 "nbformat_minor": 5
}
