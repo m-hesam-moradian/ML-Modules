{
 "cells": [
  {
   "cell_type": "code",
   "execution_count": 1,
   "id": "39ce4825",
   "metadata": {},
   "outputs": [],
   "source": [
    "import pandas as pd\n",
    "import numpy as np\n",
    "from sklearn.model_selection import train_test_split\n",
    "from sklearn.ensemble import RandomForestClassifier\n",
    "from sklearn.neural_network import MLPClassifier\n",
    "from sklearn.naive_bayes import GaussianNB\n",
    "from sklearn.tree import DecisionTreeClassifier\n",
    "from sklearn.metrics import accuracy_score\n",
    "from scipy.special import gamma\n",
    "import random"
   ]
  },
  {
   "cell_type": "markdown",
   "id": "969ff6bd",
   "metadata": {},
   "source": [
    "# Load data function\n"
   ]
  },
  {
   "cell_type": "code",
   "execution_count": 2,
   "id": "0259c3ca",
   "metadata": {},
   "outputs": [],
   "source": [
    "\n",
    "file_path = \"data/FraudDetectionDataset.xlsx\"\n",
    "def load_data(file_path):\n",
    "    # Load data from Excel\n",
    "    data = pd.read_excel(file_path)\n",
    "    \n",
    "    # Columns to be used for features (excluding the 'Fraudulent' target column)\n",
    "    X = data.drop(columns='Fraudulent')\n",
    "    y = data['Fraudulent']  # The target column is 'Fraudulent'\n",
    "    \n",
    "    return X, y\n"
   ]
  },
  {
   "cell_type": "markdown",
   "id": "472dd9d1",
   "metadata": {},
   "source": [
    "c\n"
   ]
  },
  {
   "cell_type": "markdown",
   "id": "001a2761",
   "metadata": {},
   "source": [
    "# Main Script\n"
   ]
  },
  {
   "cell_type": "code",
   "execution_count": 5,
   "id": "2b2872e3",
   "metadata": {},
   "outputs": [
    {
     "name": "stdout",
     "output_type": "stream",
     "text": [
      "Best parameters (as array): [49.38771671]\n",
      "Best accuracy: 1.0000\n"
     ]
    }
   ],
   "source": [
    "from sklearn.datasets import load_iris\n",
    "from sklearn.ensemble import RandomForestClassifier\n",
    "from sklearn.model_selection import train_test_split\n",
    "from src.Optimizer.run_hpo_for_model import run_hpo_on_model\n",
    "import numpy as np\n",
    "\n",
    "# Suppose you have these already defined:\n",
    "# run_hpo_on_model, HPO, evaluate_model, levy, etc.\n",
    "\n",
    "# Load example data\n",
    "data = load_iris()\n",
    "X, y = data.data, data.target\n",
    "\n",
    "# Define the model to tune\n",
    "model = RandomForestClassifier(random_state=42)\n",
    "\n",
    "# Define hyperparameter range for n_estimators (e.g., from 10 to 100)\n",
    "hyperparam_range = [10, 100]\n",
    "\n",
    "# Dimension = 1 since we're tuning only one parameter (n_estimators)\n",
    "dimension = 1\n",
    "\n",
    "# Set HPO parameters\n",
    "SearchAgents = 5\n",
    "Max_iterations = 10\n",
    "test_size = 0.3\n",
    "\n",
    "# Run HPO tuning\n",
    "best_error, best_params, best_accuracy = run_hpo_on_model(\n",
    "    X, y, model,\n",
    "    hyperparam_range=hyperparam_range,\n",
    "    dimension=dimension,\n",
    "    SearchAgents=SearchAgents,\n",
    "    Max_iterations=Max_iterations,\n",
    "    test_size=test_size\n",
    ")\n",
    "\n",
    "print(f\"Best parameters (as array): {best_params}\")\n",
    "print(f\"Best accuracy: {best_accuracy:.4f}\")\n"
   ]
  }
 ],
 "metadata": {
  "kernelspec": {
   "display_name": "Python 3",
   "language": "python",
   "name": "python3"
  },
  "language_info": {
   "codemirror_mode": {
    "name": "ipython",
    "version": 3
   },
   "file_extension": ".py",
   "mimetype": "text/x-python",
   "name": "python",
   "nbconvert_exporter": "python",
   "pygments_lexer": "ipython3",
   "version": "3.12.8"
  }
 },
 "nbformat": 4,
 "nbformat_minor": 5
}
